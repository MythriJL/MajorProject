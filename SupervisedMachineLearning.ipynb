{
  "nbformat": 4,
  "nbformat_minor": 0,
  "metadata": {
    "colab": {
      "name": "General_lung_issue_Prediction_pca.ipynb",
      "provenance": [],
      "collapsed_sections": []
    },
    "kernelspec": {
      "name": "python3",
      "display_name": "Python 3"
    },
    "language_info": {
      "name": "python"
    }
  },
  "cells": [
    {
      "cell_type": "code",
      "execution_count": null,
      "metadata": {
        "id": "I7XOm0m6A9F7"
      },
      "outputs": [],
      "source": [
        "import numpy as np\n",
        "import pandas as pd"
      ]
    },
    {
      "cell_type": "code",
      "source": [
        "dataset = pd.read_csv(\"/content/unsegmented_algorithm_3.csv\")"
      ],
      "metadata": {
        "id": "Wv7sVYK8CBWT"
      },
      "execution_count": null,
      "outputs": []
    },
    {
      "cell_type": "code",
      "source": [
        "dataset.head()"
      ],
      "metadata": {
        "colab": {
          "base_uri": "https://localhost:8080/",
          "height": 304
        },
        "id": "KnIkQDmtCJzm",
        "outputId": "442d5aa7-569f-4a69-f9c5-070aa94a930d"
      },
      "execution_count": null,
      "outputs": [
        {
          "output_type": "execute_result",
          "data": {
            "text/plain": [
              "         Mean  Standard Deviation   Entropy  Root Mean Square     Variance  \\\n",
              "0  142.825600           68.316814  7.799914        158.323526  4667.187106   \n",
              "1  129.788105           63.520867  7.784118        144.498626  4034.900600   \n",
              "2  125.801144           66.486340  7.845627        142.289709  4420.433452   \n",
              "3  156.515545           55.437192  7.653133        166.043362  3073.282282   \n",
              "4  152.318817           60.454953  7.672014        163.877464  3654.801310   \n",
              "\n",
              "   Smoothness  Kurtosis  Skewness   Contrast  Co-relation     Energy  \\\n",
              "0   36.561905 -0.985061 -0.454958  68.316814     0.994779  22.013712   \n",
              "1   24.656780 -0.902764 -0.308290  63.520867     0.985447  49.665704   \n",
              "2   30.362963 -1.060783 -0.166092  66.486340     0.993520  28.207061   \n",
              "3   28.851852 -0.588346 -0.600728  55.437192     0.987389  53.250484   \n",
              "4   39.530864 -0.766938 -0.409500  60.454953     0.991307  49.426832   \n",
              "\n",
              "   Homogeneity Disease  \n",
              "0     0.276280  NORMAL  \n",
              "1     0.281596  NORMAL  \n",
              "2     0.239024  NORMAL  \n",
              "3     0.286872  NORMAL  \n",
              "4     0.268511  NORMAL  "
            ],
            "text/html": [
              "\n",
              "  <div id=\"df-716010ca-5534-4a11-96a9-5e9e6371a9f2\">\n",
              "    <div class=\"colab-df-container\">\n",
              "      <div>\n",
              "<style scoped>\n",
              "    .dataframe tbody tr th:only-of-type {\n",
              "        vertical-align: middle;\n",
              "    }\n",
              "\n",
              "    .dataframe tbody tr th {\n",
              "        vertical-align: top;\n",
              "    }\n",
              "\n",
              "    .dataframe thead th {\n",
              "        text-align: right;\n",
              "    }\n",
              "</style>\n",
              "<table border=\"1\" class=\"dataframe\">\n",
              "  <thead>\n",
              "    <tr style=\"text-align: right;\">\n",
              "      <th></th>\n",
              "      <th>Mean</th>\n",
              "      <th>Standard Deviation</th>\n",
              "      <th>Entropy</th>\n",
              "      <th>Root Mean Square</th>\n",
              "      <th>Variance</th>\n",
              "      <th>Smoothness</th>\n",
              "      <th>Kurtosis</th>\n",
              "      <th>Skewness</th>\n",
              "      <th>Contrast</th>\n",
              "      <th>Co-relation</th>\n",
              "      <th>Energy</th>\n",
              "      <th>Homogeneity</th>\n",
              "      <th>Disease</th>\n",
              "    </tr>\n",
              "  </thead>\n",
              "  <tbody>\n",
              "    <tr>\n",
              "      <th>0</th>\n",
              "      <td>142.825600</td>\n",
              "      <td>68.316814</td>\n",
              "      <td>7.799914</td>\n",
              "      <td>158.323526</td>\n",
              "      <td>4667.187106</td>\n",
              "      <td>36.561905</td>\n",
              "      <td>-0.985061</td>\n",
              "      <td>-0.454958</td>\n",
              "      <td>68.316814</td>\n",
              "      <td>0.994779</td>\n",
              "      <td>22.013712</td>\n",
              "      <td>0.276280</td>\n",
              "      <td>NORMAL</td>\n",
              "    </tr>\n",
              "    <tr>\n",
              "      <th>1</th>\n",
              "      <td>129.788105</td>\n",
              "      <td>63.520867</td>\n",
              "      <td>7.784118</td>\n",
              "      <td>144.498626</td>\n",
              "      <td>4034.900600</td>\n",
              "      <td>24.656780</td>\n",
              "      <td>-0.902764</td>\n",
              "      <td>-0.308290</td>\n",
              "      <td>63.520867</td>\n",
              "      <td>0.985447</td>\n",
              "      <td>49.665704</td>\n",
              "      <td>0.281596</td>\n",
              "      <td>NORMAL</td>\n",
              "    </tr>\n",
              "    <tr>\n",
              "      <th>2</th>\n",
              "      <td>125.801144</td>\n",
              "      <td>66.486340</td>\n",
              "      <td>7.845627</td>\n",
              "      <td>142.289709</td>\n",
              "      <td>4420.433452</td>\n",
              "      <td>30.362963</td>\n",
              "      <td>-1.060783</td>\n",
              "      <td>-0.166092</td>\n",
              "      <td>66.486340</td>\n",
              "      <td>0.993520</td>\n",
              "      <td>28.207061</td>\n",
              "      <td>0.239024</td>\n",
              "      <td>NORMAL</td>\n",
              "    </tr>\n",
              "    <tr>\n",
              "      <th>3</th>\n",
              "      <td>156.515545</td>\n",
              "      <td>55.437192</td>\n",
              "      <td>7.653133</td>\n",
              "      <td>166.043362</td>\n",
              "      <td>3073.282282</td>\n",
              "      <td>28.851852</td>\n",
              "      <td>-0.588346</td>\n",
              "      <td>-0.600728</td>\n",
              "      <td>55.437192</td>\n",
              "      <td>0.987389</td>\n",
              "      <td>53.250484</td>\n",
              "      <td>0.286872</td>\n",
              "      <td>NORMAL</td>\n",
              "    </tr>\n",
              "    <tr>\n",
              "      <th>4</th>\n",
              "      <td>152.318817</td>\n",
              "      <td>60.454953</td>\n",
              "      <td>7.672014</td>\n",
              "      <td>163.877464</td>\n",
              "      <td>3654.801310</td>\n",
              "      <td>39.530864</td>\n",
              "      <td>-0.766938</td>\n",
              "      <td>-0.409500</td>\n",
              "      <td>60.454953</td>\n",
              "      <td>0.991307</td>\n",
              "      <td>49.426832</td>\n",
              "      <td>0.268511</td>\n",
              "      <td>NORMAL</td>\n",
              "    </tr>\n",
              "  </tbody>\n",
              "</table>\n",
              "</div>\n",
              "      <button class=\"colab-df-convert\" onclick=\"convertToInteractive('df-716010ca-5534-4a11-96a9-5e9e6371a9f2')\"\n",
              "              title=\"Convert this dataframe to an interactive table.\"\n",
              "              style=\"display:none;\">\n",
              "        \n",
              "  <svg xmlns=\"http://www.w3.org/2000/svg\" height=\"24px\"viewBox=\"0 0 24 24\"\n",
              "       width=\"24px\">\n",
              "    <path d=\"M0 0h24v24H0V0z\" fill=\"none\"/>\n",
              "    <path d=\"M18.56 5.44l.94 2.06.94-2.06 2.06-.94-2.06-.94-.94-2.06-.94 2.06-2.06.94zm-11 1L8.5 8.5l.94-2.06 2.06-.94-2.06-.94L8.5 2.5l-.94 2.06-2.06.94zm10 10l.94 2.06.94-2.06 2.06-.94-2.06-.94-.94-2.06-.94 2.06-2.06.94z\"/><path d=\"M17.41 7.96l-1.37-1.37c-.4-.4-.92-.59-1.43-.59-.52 0-1.04.2-1.43.59L10.3 9.45l-7.72 7.72c-.78.78-.78 2.05 0 2.83L4 21.41c.39.39.9.59 1.41.59.51 0 1.02-.2 1.41-.59l7.78-7.78 2.81-2.81c.8-.78.8-2.07 0-2.86zM5.41 20L4 18.59l7.72-7.72 1.47 1.35L5.41 20z\"/>\n",
              "  </svg>\n",
              "      </button>\n",
              "      \n",
              "  <style>\n",
              "    .colab-df-container {\n",
              "      display:flex;\n",
              "      flex-wrap:wrap;\n",
              "      gap: 12px;\n",
              "    }\n",
              "\n",
              "    .colab-df-convert {\n",
              "      background-color: #E8F0FE;\n",
              "      border: none;\n",
              "      border-radius: 50%;\n",
              "      cursor: pointer;\n",
              "      display: none;\n",
              "      fill: #1967D2;\n",
              "      height: 32px;\n",
              "      padding: 0 0 0 0;\n",
              "      width: 32px;\n",
              "    }\n",
              "\n",
              "    .colab-df-convert:hover {\n",
              "      background-color: #E2EBFA;\n",
              "      box-shadow: 0px 1px 2px rgba(60, 64, 67, 0.3), 0px 1px 3px 1px rgba(60, 64, 67, 0.15);\n",
              "      fill: #174EA6;\n",
              "    }\n",
              "\n",
              "    [theme=dark] .colab-df-convert {\n",
              "      background-color: #3B4455;\n",
              "      fill: #D2E3FC;\n",
              "    }\n",
              "\n",
              "    [theme=dark] .colab-df-convert:hover {\n",
              "      background-color: #434B5C;\n",
              "      box-shadow: 0px 1px 3px 1px rgba(0, 0, 0, 0.15);\n",
              "      filter: drop-shadow(0px 1px 2px rgba(0, 0, 0, 0.3));\n",
              "      fill: #FFFFFF;\n",
              "    }\n",
              "  </style>\n",
              "\n",
              "      <script>\n",
              "        const buttonEl =\n",
              "          document.querySelector('#df-716010ca-5534-4a11-96a9-5e9e6371a9f2 button.colab-df-convert');\n",
              "        buttonEl.style.display =\n",
              "          google.colab.kernel.accessAllowed ? 'block' : 'none';\n",
              "\n",
              "        async function convertToInteractive(key) {\n",
              "          const element = document.querySelector('#df-716010ca-5534-4a11-96a9-5e9e6371a9f2');\n",
              "          const dataTable =\n",
              "            await google.colab.kernel.invokeFunction('convertToInteractive',\n",
              "                                                     [key], {});\n",
              "          if (!dataTable) return;\n",
              "\n",
              "          const docLinkHtml = 'Like what you see? Visit the ' +\n",
              "            '<a target=\"_blank\" href=https://colab.research.google.com/notebooks/data_table.ipynb>data table notebook</a>'\n",
              "            + ' to learn more about interactive tables.';\n",
              "          element.innerHTML = '';\n",
              "          dataTable['output_type'] = 'display_data';\n",
              "          await google.colab.output.renderOutput(dataTable, element);\n",
              "          const docLink = document.createElement('div');\n",
              "          docLink.innerHTML = docLinkHtml;\n",
              "          element.appendChild(docLink);\n",
              "        }\n",
              "      </script>\n",
              "    </div>\n",
              "  </div>\n",
              "  "
            ]
          },
          "metadata": {},
          "execution_count": 317
        }
      ]
    },
    {
      "cell_type": "code",
      "source": [
        "#The script below stores the feature sets into the X variable and the series of corresponding labels in to the y variable.\n",
        "\n",
        "X = dataset.drop('Disease', 1)\n",
        "y = dataset['Disease']\n"
      ],
      "metadata": {
        "colab": {
          "base_uri": "https://localhost:8080/"
        },
        "id": "E4aLG2g1CaFt",
        "outputId": "5fbf70cb-bb75-465c-df4b-8965a28aa36d"
      },
      "execution_count": null,
      "outputs": [
        {
          "output_type": "stream",
          "name": "stderr",
          "text": [
            "/usr/local/lib/python3.7/dist-packages/ipykernel_launcher.py:3: FutureWarning: In a future version of pandas all arguments of DataFrame.drop except for the argument 'labels' will be keyword-only\n",
            "  This is separate from the ipykernel package so we can avoid doing imports until\n"
          ]
        }
      ]
    },
    {
      "cell_type": "code",
      "source": [
        "from sklearn.model_selection import train_test_split\n",
        "from sklearn.preprocessing import StandardScaler\n",
        "from sklearn.decomposition import PCA\n",
        "\n",
        "X_train, X_test, y_train, y_test = train_test_split(X, y, test_size=0.2, random_state=0)\n",
        "\n",
        "#normalization\n",
        "sc = StandardScaler()\n",
        "X_train = sc.fit_transform(X_train)\n",
        "X_test = sc.transform(X_test)\n",
        "\n",
        "#PCA\n",
        "pca = PCA()\n",
        "X_train = pca.fit_transform(X_train)\n",
        "X_test = pca.transform(X_test)"
      ],
      "metadata": {
        "id": "5bBroKyfCuj3"
      },
      "execution_count": null,
      "outputs": []
    },
    {
      "cell_type": "code",
      "source": [
        "explained_variance = pca.explained_variance_ratio_\n",
        "print(explained_variance)"
      ],
      "metadata": {
        "colab": {
          "base_uri": "https://localhost:8080/"
        },
        "id": "tRRjEeGUD5eL",
        "outputId": "ca55edc0-4e4b-469c-8589-102c616bff06"
      },
      "execution_count": null,
      "outputs": [
        {
          "output_type": "stream",
          "name": "stdout",
          "text": [
            "[3.48826490e-01 2.18386710e-01 1.78932688e-01 1.05767702e-01\n",
            " 7.33592851e-02 2.65784352e-02 2.33840116e-02 1.47861836e-02\n",
            " 9.43622964e-03 4.97874385e-04 4.43895421e-05 2.12948531e-34]\n"
          ]
        }
      ]
    },
    {
      "cell_type": "code",
      "source": [
        "import matplotlib.pyplot as plt\n",
        "with plt.style.context('dark_background'):\n",
        "    plt.figure(figsize=(10, 6))\n",
        "\n",
        "    plt.bar(range(12), explained_variance, alpha=1, align='center',\n",
        "            label='individual explained variance')\n",
        "    plt.ylabel('Explained variance ratio')\n",
        "    plt.xlabel('Principal components')\n",
        "    plt.legend(loc='best')\n",
        "    plt.tight_layout()"
      ],
      "metadata": {
        "colab": {
          "base_uri": "https://localhost:8080/",
          "height": 441
        },
        "id": "VuJ3_z8vIDim",
        "outputId": "b5722441-82c1-4cf7-8228-5e5c7713a130"
      },
      "execution_count": null,
      "outputs": [
        {
          "output_type": "display_data",
          "data": {
            "text/plain": [
              "<Figure size 720x432 with 1 Axes>"
            ],
            "image/png": "[encoded data removed]"
          },
          "metadata": {}
        }
      ]
    },
    {
      "cell_type": "code",
      "source": [
        "#Thus we can see from the above plot that first two components constitute most of the variance.Third,fourth and fifth components has good number of the data sprad.The last component has less than 5% of the variance.Hence we can drop the fifth component\n",
        "pca = PCA(n_components=9)\n",
        "X_train = pca.fit_transform(X_train)\n",
        "X_test = pca.transform(X_test)"
      ],
      "metadata": {
        "id": "idwQXg-1JoNF"
      },
      "execution_count": null,
      "outputs": []
    },
    {
      "cell_type": "code",
      "source": [
        "import pickle\n",
        "\n",
        "#saving the trained model\n",
        "def saveModel(model,fileName):\n",
        "  filename = fileName\n",
        "  pickle.dump(model, open(filename, 'wb'))\n",
        "\n",
        "#loading the trained model\n",
        "def loadModel(modelName):\n",
        "  with open(modelName , 'rb') as f:\n",
        "      model = pickle.load(f)\n",
        "      return model"
      ],
      "metadata": {
        "id": "sRN82R6qTLIi"
      },
      "execution_count": null,
      "outputs": []
    },
    {
      "cell_type": "markdown",
      "source": [
        "###RANDOM FOREST"
      ],
      "metadata": {
        "id": "EbX42u7EUBuB"
      }
    },
    {
      "cell_type": "code",
      "source": [
        "from sklearn.ensemble import RandomForestClassifier\n",
        "\n",
        "random_forest_model = RandomForestClassifier(random_state=10)\n",
        "random_forest_model.fit(X_train, y_train.ravel())\n"
      ],
      "metadata": {
        "colab": {
          "base_uri": "https://localhost:8080/"
        },
        "id": "b7_y3MEEFnnV",
        "outputId": "45fc31ee-f723-4609-a43c-3f15dc850e2e"
      },
      "execution_count": null,
      "outputs": [
        {
          "output_type": "execute_result",
          "data": {
            "text/plain": [
              "RandomForestClassifier(random_state=10)"
            ]
          },
          "metadata": {},
          "execution_count": 324
        }
      ]
    },
    {
      "cell_type": "code",
      "source": [
        "saveModel(random_forest_model,\"random_forest_model_pca.h5\")"
      ],
      "metadata": {
        "id": "PCZddABnGpUF"
      },
      "execution_count": null,
      "outputs": []
    },
    {
      "cell_type": "code",
      "source": [
        "random_forest_modelh5 = loadModel(\"random_forest_model_pca.h5\")\n",
        "predict_train_data = random_forest_modelh5.predict(X_test)\n",
        "from sklearn import metrics\n",
        "print(\"Accuracy = {0:.3f}\".format(metrics.accuracy_score(y_test, predict_train_data)))"
      ],
      "metadata": {
        "colab": {
          "base_uri": "https://localhost:8080/"
        },
        "id": "Kg9OlbPITxgn",
        "outputId": "f0eb82f7-67c1-473a-b671-f3d1c22c610b"
      },
      "execution_count": null,
      "outputs": [
        {
          "output_type": "stream",
          "name": "stdout",
          "text": [
            "Accuracy = 0.939\n"
          ]
        }
      ]
    },
    {
      "cell_type": "markdown",
      "source": [
        "###Decision Trees"
      ],
      "metadata": {
        "id": "2ghl1RtIUQCQ"
      }
    },
    {
      "cell_type": "code",
      "source": [
        "#Fitting Decision Tree classifier to the training set  \n",
        "from sklearn.tree import DecisionTreeClassifier  \n",
        "classifier= DecisionTreeClassifier(criterion='entropy', random_state=0)  \n",
        "classifier.fit(X_train, y_train) "
      ],
      "metadata": {
        "colab": {
          "base_uri": "https://localhost:8080/"
        },
        "id": "V9s9j2p1T6Es",
        "outputId": "112e53d0-ef8a-40fd-a583-5cb1e298b91f"
      },
      "execution_count": null,
      "outputs": [
        {
          "output_type": "execute_result",
          "data": {
            "text/plain": [
              "DecisionTreeClassifier(criterion='entropy', random_state=0)"
            ]
          },
          "metadata": {},
          "execution_count": 327
        }
      ]
    },
    {
      "cell_type": "code",
      "source": [
        "saveModel(classifier,\"decison_tree_classifier_pca.h5\")"
      ],
      "metadata": {
        "id": "uXftYHm5UXHY"
      },
      "execution_count": null,
      "outputs": []
    },
    {
      "cell_type": "code",
      "source": [
        "classifier_model = loadModel(\"decison_tree_classifier_pca.h5\")\n",
        "y_pred= classifier_model.predict(X_test)  \n",
        "from sklearn import metrics\n",
        "\n",
        "print(\"Accuracy = {0:.3f}\".format(metrics.accuracy_score(y_test, y_pred)))"
      ],
      "metadata": {
        "colab": {
          "base_uri": "https://localhost:8080/"
        },
        "id": "bR7CJ-yWUcdM",
        "outputId": "488427b9-c11c-46ee-886c-bfe1809b3e30"
      },
      "execution_count": null,
      "outputs": [
        {
          "output_type": "stream",
          "name": "stdout",
          "text": [
            "Accuracy = 0.880\n"
          ]
        }
      ]
    },
    {
      "cell_type": "markdown",
      "source": [
        "###Logistic Regression"
      ],
      "metadata": {
        "id": "238PBWfNUl8k"
      }
    },
    {
      "cell_type": "code",
      "source": [
        "#Fitting Logistic Regression to the training set  \n",
        "from sklearn.linear_model import LogisticRegression  \n",
        "classifier= LogisticRegression(random_state=0)  \n",
        "classifier.fit(X_train, y_train)"
      ],
      "metadata": {
        "colab": {
          "base_uri": "https://localhost:8080/"
        },
        "id": "sRYVJtIIUpXz",
        "outputId": "41eabea5-287c-4ca8-c8d4-0773c3051188"
      },
      "execution_count": null,
      "outputs": [
        {
          "output_type": "execute_result",
          "data": {
            "text/plain": [
              "LogisticRegression(random_state=0)"
            ]
          },
          "metadata": {},
          "execution_count": 330
        }
      ]
    },
    {
      "cell_type": "code",
      "source": [
        "saveModel(classifier,\"logistic_regression_pca.h5\")"
      ],
      "metadata": {
        "id": "mMxsBEplUsUW"
      },
      "execution_count": null,
      "outputs": []
    },
    {
      "cell_type": "code",
      "source": [
        "#Predicting the test set result  \n",
        "classifier_model_lr = loadModel(\"logistic_regression_pca.h5\")\n",
        "y_pred2= classifier_model_lr.predict(X_test)\n",
        "from sklearn import metrics\n",
        "\n",
        "print(\"Accuracy = {0:.3f}\".format(metrics.accuracy_score(y_test, y_pred2)))  "
      ],
      "metadata": {
        "colab": {
          "base_uri": "https://localhost:8080/"
        },
        "id": "6Bnn0cDyU0Ii",
        "outputId": "9ca33277-f6c2-402e-e629-1b046f2e1de1"
      },
      "execution_count": null,
      "outputs": [
        {
          "output_type": "stream",
          "name": "stdout",
          "text": [
            "Accuracy = 0.870\n"
          ]
        }
      ]
    },
    {
      "cell_type": "markdown",
      "source": [
        "###Support vector Machines"
      ],
      "metadata": {
        "id": "ycERuHpOU8dh"
      }
    },
    {
      "cell_type": "code",
      "source": [
        "from sklearn.svm import SVC # \"Support vector classifier\"  \n",
        "classifier = SVC(kernel='linear', random_state=0)  \n",
        "classifier.fit(X_train, y_train)  "
      ],
      "metadata": {
        "colab": {
          "base_uri": "https://localhost:8080/"
        },
        "id": "CDxJdkiyVAy7",
        "outputId": "2df3a891-17c6-41d3-fa45-1629b9bdce1f"
      },
      "execution_count": null,
      "outputs": [
        {
          "output_type": "execute_result",
          "data": {
            "text/plain": [
              "SVC(kernel='linear', random_state=0)"
            ]
          },
          "metadata": {},
          "execution_count": 333
        }
      ]
    },
    {
      "cell_type": "code",
      "source": [
        "saveModel(classifier,\"svm_pca.h5\")"
      ],
      "metadata": {
        "id": "A5gy3heDVDMw"
      },
      "execution_count": null,
      "outputs": []
    },
    {
      "cell_type": "code",
      "source": [
        "#Predicting the test set result  \n",
        "svm_model = loadModel(\"svm_pca.h5\")\n",
        "y_pred3= svm_model.predict(X_test)  \n",
        "from sklearn import metrics\n",
        "\n",
        "print(\"Accuracy = {0:.3f}\".format(metrics.accuracy_score(y_test, y_pred3)))"
      ],
      "metadata": {
        "colab": {
          "base_uri": "https://localhost:8080/"
        },
        "id": "u333auXYVHNm",
        "outputId": "cc35d8b0-6873-4638-9b52-4a390651ab61"
      },
      "execution_count": null,
      "outputs": [
        {
          "output_type": "stream",
          "name": "stdout",
          "text": [
            "Accuracy = 0.870\n"
          ]
        }
      ]
    },
    {
      "cell_type": "code",
      "source": [
        "ensemble = loadModel(\"ensemble_pca.h5\")"
      ],
      "metadata": {
        "id": "pC8EouzxLl55"
      },
      "execution_count": null,
      "outputs": []
    },
    {
      "cell_type": "code",
      "source": [
        "ensemble.fit(X_train, y_train)\n",
        "#test our model on the test data\n",
        "ensemble.score(X_test, y_test)\n",
        "\n",
        "y_pred2= ensemble.predict(X_test)\n",
        "from sklearn import metrics\n",
        "\n",
        "print(\"Accuracy = {0:.3f}\".format(metrics.accuracy_score(y_test, y_pred2)))  "
      ],
      "metadata": {
        "colab": {
          "base_uri": "https://localhost:8080/"
        },
        "id": "lJjC-yRuNC1d",
        "outputId": "0fee8ae2-4b1b-408b-a627-fdd4518e4152"
      },
      "execution_count": null,
      "outputs": [
        {
          "output_type": "stream",
          "name": "stdout",
          "text": [
            "Accuracy = 0.906\n"
          ]
        }
      ]
    }
  ]
}