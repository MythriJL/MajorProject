{
  "cells": [
    {
      "cell_type": "markdown",
      "metadata": {
        "id": "Qnx4LShU2MTv"
      },
      "source": [
        "## Transfer Learning using MobileNet for diagnoising pneumonia"
      ]
    },
    {
      "cell_type": "code",
      "execution_count": null,
      "metadata": {
        "colab": {
          "base_uri": "https://localhost:8080/"
        },
        "id": "qxAU3e0qBQ2c",
        "outputId": "bf84e67a-0c1e-41c8-917c-d86fa9057dcf"
      },
      "outputs": [
        {
          "name": "stdout",
          "output_type": "stream",
          "text": [
            "Mounted at /content/drive\n"
          ]
        }
      ],
      "source": [
        "from google.colab import drive\n",
        "drive.mount('/content/drive')"
      ]
    },
    {
      "cell_type": "code",
      "execution_count": null,
      "metadata": {
        "id": "1Po-OUMQBntJ"
      },
      "outputs": [],
      "source": [
        "#import needed packages\n",
        "import cv2\n",
        "import numpy as np\n",
        "import tensorflow as tf\n",
        "import keras\n",
        "from keras import backend as K\n",
        "from tensorflow.keras.optimizers import Adam\n",
        "from keras.metrics import categorical_crossentropy\n",
        "from keras.preprocessing.image import ImageDataGenerator\n",
        "from keras.models import Model\n",
        "from keras.layers import Dense,GlobalAveragePooling2D,Dropout,SeparableConv2D,BatchNormalization, Activation, Dense\n",
        "from keras.applications.mobilenet import MobileNet\n"
      ]
    },
    {
      "cell_type": "code",
      "execution_count": null,
      "metadata": {
        "colab": {
          "base_uri": "https://localhost:8080/"
        },
        "id": "_c_PQ3xYBr6G",
        "outputId": "2d049a6a-52ab-4fa6-b73b-fc8bbaa57d94"
      },
      "outputs": [
        {
          "name": "stdout",
          "output_type": "stream",
          "text": [
            "Downloading data from https://storage.googleapis.com/tensorflow/keras-applications/mobilenet/mobilenet_1_0_224_tf_no_top.h5\n",
            "17227776/17225924 [==============================] - 0s 0us/step\n",
            "17235968/17225924 [==============================] - 0s 0us/step\n"
          ]
        }
      ],
      "source": [
        "num_class = 4\n",
        "\n",
        "# Base model without Fully connected Layers\n",
        "base_model = MobileNet(include_top=False, weights='imagenet', input_shape=(224,224,3))\n",
        "x=base_model.output\n",
        "# Add some new Fully connected layers to \n",
        "x=GlobalAveragePooling2D()(x)\n",
        "x=Dense(1024,activation='relu')(x)\n",
        "x = Dropout(0.25)(x)\n",
        "x=Dense(512,activation='relu')(x) \n",
        "x = Dropout(0.25)(x)\n",
        "preds=Dense(num_class, activation='softmax')(x) #final layer with softmax activation\n",
        "\n",
        "model=Model(inputs=base_model.input,outputs=preds)"
      ]
    },
    {
      "cell_type": "code",
      "execution_count": null,
      "metadata": {
        "colab": {
          "base_uri": "https://localhost:8080/"
        },
        "id": "zH_imKfSB1vK",
        "outputId": "0f291e2f-2b51-4f92-87b6-d4cb83fefeca"
      },
      "outputs": [
        {
          "name": "stdout",
          "output_type": "stream",
          "text": [
            "Model: \"model\"\n",
            "_________________________________________________________________\n",
            " Layer (type)                Output Shape              Param #   \n",
            "=================================================================\n",
            " input_1 (InputLayer)        [(None, 224, 224, 3)]     0         \n",
            "                                                                 \n",
            " conv1 (Conv2D)              (None, 112, 112, 32)      864       \n",
            "                                                                 \n",
            " conv1_bn (BatchNormalizatio  (None, 112, 112, 32)     128       \n",
            " n)                                                              \n",
            "                                                                 \n",
            " conv1_relu (ReLU)           (None, 112, 112, 32)      0         \n",
            "                                                                 \n",
            " conv_dw_1 (DepthwiseConv2D)  (None, 112, 112, 32)     288       \n",
            "                                                                 \n",
            " conv_dw_1_bn (BatchNormaliz  (None, 112, 112, 32)     128       \n",
            " ation)                                                          \n",
            "                                                                 \n",
            " conv_dw_1_relu (ReLU)       (None, 112, 112, 32)      0         \n",
            "                                                                 \n",
            " conv_pw_1 (Conv2D)          (None, 112, 112, 64)      2048      \n",
            "                                                                 \n",
            " conv_pw_1_bn (BatchNormaliz  (None, 112, 112, 64)     256       \n",
            " ation)                                                          \n",
            "                                                                 \n",
            " conv_pw_1_relu (ReLU)       (None, 112, 112, 64)      0         \n",
            "                                                                 \n",
            " conv_pad_2 (ZeroPadding2D)  (None, 113, 113, 64)      0         \n",
            "                                                                 \n",
            " conv_dw_2 (DepthwiseConv2D)  (None, 56, 56, 64)       576       \n",
            "                                                                 \n",
            " conv_dw_2_bn (BatchNormaliz  (None, 56, 56, 64)       256       \n",
            " ation)                                                          \n",
            "                                                                 \n",
            " conv_dw_2_relu (ReLU)       (None, 56, 56, 64)        0         \n",
            "                                                                 \n",
            " conv_pw_2 (Conv2D)          (None, 56, 56, 128)       8192      \n",
            "                                                                 \n",
            " conv_pw_2_bn (BatchNormaliz  (None, 56, 56, 128)      512       \n",
            " ation)                                                          \n",
            "                                                                 \n",
            " conv_pw_2_relu (ReLU)       (None, 56, 56, 128)       0         \n",
            "                                                                 \n",
            " conv_dw_3 (DepthwiseConv2D)  (None, 56, 56, 128)      1152      \n",
            "                                                                 \n",
            " conv_dw_3_bn (BatchNormaliz  (None, 56, 56, 128)      512       \n",
            " ation)                                                          \n",
            "                                                                 \n",
            " conv_dw_3_relu (ReLU)       (None, 56, 56, 128)       0         \n",
            "                                                                 \n",
            " conv_pw_3 (Conv2D)          (None, 56, 56, 128)       16384     \n",
            "                                                                 \n",
            " conv_pw_3_bn (BatchNormaliz  (None, 56, 56, 128)      512       \n",
            " ation)                                                          \n",
            "                                                                 \n",
            " conv_pw_3_relu (ReLU)       (None, 56, 56, 128)       0         \n",
            "                                                                 \n",
            " conv_pad_4 (ZeroPadding2D)  (None, 57, 57, 128)       0         \n",
            "                                                                 \n",
            " conv_dw_4 (DepthwiseConv2D)  (None, 28, 28, 128)      1152      \n",
            "                                                                 \n",
            " conv_dw_4_bn (BatchNormaliz  (None, 28, 28, 128)      512       \n",
            " ation)                                                          \n",
            "                                                                 \n",
            " conv_dw_4_relu (ReLU)       (None, 28, 28, 128)       0         \n",
            "                                                                 \n",
            " conv_pw_4 (Conv2D)          (None, 28, 28, 256)       32768     \n",
            "                                                                 \n",
            " conv_pw_4_bn (BatchNormaliz  (None, 28, 28, 256)      1024      \n",
            " ation)                                                          \n",
            "                                                                 \n",
            " conv_pw_4_relu (ReLU)       (None, 28, 28, 256)       0         \n",
            "                                                                 \n",
            " conv_dw_5 (DepthwiseConv2D)  (None, 28, 28, 256)      2304      \n",
            "                                                                 \n",
            " conv_dw_5_bn (BatchNormaliz  (None, 28, 28, 256)      1024      \n",
            " ation)                                                          \n",
            "                                                                 \n",
            " conv_dw_5_relu (ReLU)       (None, 28, 28, 256)       0         \n",
            "                                                                 \n",
            " conv_pw_5 (Conv2D)          (None, 28, 28, 256)       65536     \n",
            "                                                                 \n",
            " conv_pw_5_bn (BatchNormaliz  (None, 28, 28, 256)      1024      \n",
            " ation)                                                          \n",
            "                                                                 \n",
            " conv_pw_5_relu (ReLU)       (None, 28, 28, 256)       0         \n",
            "                                                                 \n",
            " conv_pad_6 (ZeroPadding2D)  (None, 29, 29, 256)       0         \n",
            "                                                                 \n",
            " conv_dw_6 (DepthwiseConv2D)  (None, 14, 14, 256)      2304      \n",
            "                                                                 \n",
            " conv_dw_6_bn (BatchNormaliz  (None, 14, 14, 256)      1024      \n",
            " ation)                                                          \n",
            "                                                                 \n",
            " conv_dw_6_relu (ReLU)       (None, 14, 14, 256)       0         \n",
            "                                                                 \n",
            " conv_pw_6 (Conv2D)          (None, 14, 14, 512)       131072    \n",
            "                                                                 \n",
            " conv_pw_6_bn (BatchNormaliz  (None, 14, 14, 512)      2048      \n",
            " ation)                                                          \n",
            "                                                                 \n",
            " conv_pw_6_relu (ReLU)       (None, 14, 14, 512)       0         \n",
            "                                                                 \n",
            " conv_dw_7 (DepthwiseConv2D)  (None, 14, 14, 512)      4608      \n",
            "                                                                 \n",
            " conv_dw_7_bn (BatchNormaliz  (None, 14, 14, 512)      2048      \n",
            " ation)                                                          \n",
            "                                                                 \n",
            " conv_dw_7_relu (ReLU)       (None, 14, 14, 512)       0         \n",
            "                                                                 \n",
            " conv_pw_7 (Conv2D)          (None, 14, 14, 512)       262144    \n",
            "                                                                 \n",
            " conv_pw_7_bn (BatchNormaliz  (None, 14, 14, 512)      2048      \n",
            " ation)                                                          \n",
            "                                                                 \n",
            " conv_pw_7_relu (ReLU)       (None, 14, 14, 512)       0         \n",
            "                                                                 \n",
            " conv_dw_8 (DepthwiseConv2D)  (None, 14, 14, 512)      4608      \n",
            "                                                                 \n",
            " conv_dw_8_bn (BatchNormaliz  (None, 14, 14, 512)      2048      \n",
            " ation)                                                          \n",
            "                                                                 \n",
            " conv_dw_8_relu (ReLU)       (None, 14, 14, 512)       0         \n",
            "                                                                 \n",
            " conv_pw_8 (Conv2D)          (None, 14, 14, 512)       262144    \n",
            "                                                                 \n",
            " conv_pw_8_bn (BatchNormaliz  (None, 14, 14, 512)      2048      \n",
            " ation)                                                          \n",
            "                                                                 \n",
            " conv_pw_8_relu (ReLU)       (None, 14, 14, 512)       0         \n",
            "                                                                 \n",
            " conv_dw_9 (DepthwiseConv2D)  (None, 14, 14, 512)      4608      \n",
            "                                                                 \n",
            " conv_dw_9_bn (BatchNormaliz  (None, 14, 14, 512)      2048      \n",
            " ation)                                                          \n",
            "                                                                 \n",
            " conv_dw_9_relu (ReLU)       (None, 14, 14, 512)       0         \n",
            "                                                                 \n",
            " conv_pw_9 (Conv2D)          (None, 14, 14, 512)       262144    \n",
            "                                                                 \n",
            " conv_pw_9_bn (BatchNormaliz  (None, 14, 14, 512)      2048      \n",
            " ation)                                                          \n",
            "                                                                 \n",
            " conv_pw_9_relu (ReLU)       (None, 14, 14, 512)       0         \n",
            "                                                                 \n",
            " conv_dw_10 (DepthwiseConv2D  (None, 14, 14, 512)      4608      \n",
            " )                                                               \n",
            "                                                                 \n",
            " conv_dw_10_bn (BatchNormali  (None, 14, 14, 512)      2048      \n",
            " zation)                                                         \n",
            "                                                                 \n",
            " conv_dw_10_relu (ReLU)      (None, 14, 14, 512)       0         \n",
            "                                                                 \n",
            " conv_pw_10 (Conv2D)         (None, 14, 14, 512)       262144    \n",
            "                                                                 \n",
            " conv_pw_10_bn (BatchNormali  (None, 14, 14, 512)      2048      \n",
            " zation)                                                         \n",
            "                                                                 \n",
            " conv_pw_10_relu (ReLU)      (None, 14, 14, 512)       0         \n",
            "                                                                 \n",
            " conv_dw_11 (DepthwiseConv2D  (None, 14, 14, 512)      4608      \n",
            " )                                                               \n",
            "                                                                 \n",
            " conv_dw_11_bn (BatchNormali  (None, 14, 14, 512)      2048      \n",
            " zation)                                                         \n",
            "                                                                 \n",
            " conv_dw_11_relu (ReLU)      (None, 14, 14, 512)       0         \n",
            "                                                                 \n",
            " conv_pw_11 (Conv2D)         (None, 14, 14, 512)       262144    \n",
            "                                                                 \n",
            " conv_pw_11_bn (BatchNormali  (None, 14, 14, 512)      2048      \n",
            " zation)                                                         \n",
            "                                                                 \n",
            " conv_pw_11_relu (ReLU)      (None, 14, 14, 512)       0         \n",
            "                                                                 \n",
            " conv_pad_12 (ZeroPadding2D)  (None, 15, 15, 512)      0         \n",
            "                                                                 \n",
            " conv_dw_12 (DepthwiseConv2D  (None, 7, 7, 512)        4608      \n",
            " )                                                               \n",
            "                                                                 \n",
            " conv_dw_12_bn (BatchNormali  (None, 7, 7, 512)        2048      \n",
            " zation)                                                         \n",
            "                                                                 \n",
            " conv_dw_12_relu (ReLU)      (None, 7, 7, 512)         0         \n",
            "                                                                 \n",
            " conv_pw_12 (Conv2D)         (None, 7, 7, 1024)        524288    \n",
            "                                                                 \n",
            " conv_pw_12_bn (BatchNormali  (None, 7, 7, 1024)       4096      \n",
            " zation)                                                         \n",
            "                                                                 \n",
            " conv_pw_12_relu (ReLU)      (None, 7, 7, 1024)        0         \n",
            "                                                                 \n",
            " conv_dw_13 (DepthwiseConv2D  (None, 7, 7, 1024)       9216      \n",
            " )                                                               \n",
            "                                                                 \n",
            " conv_dw_13_bn (BatchNormali  (None, 7, 7, 1024)       4096      \n",
            " zation)                                                         \n",
            "                                                                 \n",
            " conv_dw_13_relu (ReLU)      (None, 7, 7, 1024)        0         \n",
            "                                                                 \n",
            " conv_pw_13 (Conv2D)         (None, 7, 7, 1024)        1048576   \n",
            "                                                                 \n",
            " conv_pw_13_bn (BatchNormali  (None, 7, 7, 1024)       4096      \n",
            " zation)                                                         \n",
            "                                                                 \n",
            " conv_pw_13_relu (ReLU)      (None, 7, 7, 1024)        0         \n",
            "                                                                 \n",
            " global_average_pooling2d (G  (None, 1024)             0         \n",
            " lobalAveragePooling2D)                                          \n",
            "                                                                 \n",
            " dense (Dense)               (None, 1024)              1049600   \n",
            "                                                                 \n",
            " dropout (Dropout)           (None, 1024)              0         \n",
            "                                                                 \n",
            " dense_1 (Dense)             (None, 512)               524800    \n",
            "                                                                 \n",
            " dropout_1 (Dropout)         (None, 512)               0         \n",
            "                                                                 \n",
            " dense_2 (Dense)             (None, 4)                 2052      \n",
            "                                                                 \n",
            "=================================================================\n",
            "Total params: 4,805,316\n",
            "Trainable params: 4,783,428\n",
            "Non-trainable params: 21,888\n",
            "_________________________________________________________________\n"
          ]
        }
      ],
      "source": [
        "model.summary()"
      ]
    },
    {
      "cell_type": "code",
      "execution_count": null,
      "metadata": {
        "colab": {
          "base_uri": "https://localhost:8080/"
        },
        "id": "hJnT6hfoB7Ob",
        "outputId": "3a80f1bd-0e71-4fae-c606-4cb21c792a1a"
      },
      "outputs": [
        {
          "name": "stdout",
          "output_type": "stream",
          "text": [
            "0: <keras.engine.input_layer.InputLayer object at 0x7f15c6a55150>\n",
            "1: <keras.layers.convolutional.Conv2D object at 0x7f15c06ed6d0>\n",
            "2: <keras.layers.normalization.batch_normalization.BatchNormalization object at 0x7f15bfb847d0>\n",
            "3: <keras.layers.advanced_activations.ReLU object at 0x7f15be6a77d0>\n",
            "4: <keras.layers.convolutional.DepthwiseConv2D object at 0x7f15be70ce10>\n",
            "5: <keras.layers.normalization.batch_normalization.BatchNormalization object at 0x7f15b039f1d0>\n",
            "6: <keras.layers.advanced_activations.ReLU object at 0x7f15b039c250>\n",
            "7: <keras.layers.convolutional.Conv2D object at 0x7f15b03a5650>\n",
            "8: <keras.layers.normalization.batch_normalization.BatchNormalization object at 0x7f15b03b35d0>\n",
            "9: <keras.layers.advanced_activations.ReLU object at 0x7f15b03ae490>\n",
            "10: <keras.layers.convolutional.ZeroPadding2D object at 0x7f15b03b3ad0>\n",
            "11: <keras.layers.convolutional.DepthwiseConv2D object at 0x7f15b03c0150>\n",
            "12: <keras.layers.normalization.batch_normalization.BatchNormalization object at 0x7f15b03c8a10>\n",
            "13: <keras.layers.advanced_activations.ReLU object at 0x7f15b03b9b90>\n",
            "14: <keras.layers.convolutional.Conv2D object at 0x7f15b03b91d0>\n",
            "15: <keras.layers.normalization.batch_normalization.BatchNormalization object at 0x7f15b03d2cd0>\n",
            "16: <keras.layers.advanced_activations.ReLU object at 0x7f15b03cc710>\n",
            "17: <keras.layers.convolutional.DepthwiseConv2D object at 0x7f15b03cb050>\n",
            "18: <keras.layers.normalization.batch_normalization.BatchNormalization object at 0x7f15b0366cd0>\n",
            "19: <keras.layers.advanced_activations.ReLU object at 0x7f15b0362c50>\n",
            "20: <keras.layers.convolutional.Conv2D object at 0x7f15b0362250>\n",
            "21: <keras.layers.normalization.batch_normalization.BatchNormalization object at 0x7f15b03719d0>\n",
            "22: <keras.layers.advanced_activations.ReLU object at 0x7f15b037cb90>\n",
            "23: <keras.layers.convolutional.ZeroPadding2D object at 0x7f15b037cb50>\n",
            "24: <keras.layers.convolutional.DepthwiseConv2D object at 0x7f15b0373510>\n",
            "25: <keras.layers.normalization.batch_normalization.BatchNormalization object at 0x7f15b0389850>\n",
            "26: <keras.layers.advanced_activations.ReLU object at 0x7f15b0384d90>\n",
            "27: <keras.layers.convolutional.Conv2D object at 0x7f15b0384dd0>\n",
            "28: <keras.layers.normalization.batch_normalization.BatchNormalization object at 0x7f15b031fa10>\n",
            "29: <keras.layers.advanced_activations.ReLU object at 0x7f15b039a250>\n",
            "30: <keras.layers.convolutional.DepthwiseConv2D object at 0x7f15b0395e50>\n",
            "31: <keras.layers.normalization.batch_normalization.BatchNormalization object at 0x7f15b03275d0>\n",
            "32: <keras.layers.advanced_activations.ReLU object at 0x7f15b0335f50>\n",
            "33: <keras.layers.convolutional.Conv2D object at 0x7f15b0335390>\n",
            "34: <keras.layers.normalization.batch_normalization.BatchNormalization object at 0x7f15b033ac50>\n",
            "35: <keras.layers.advanced_activations.ReLU object at 0x7f15b0343b50>\n",
            "36: <keras.layers.convolutional.ZeroPadding2D object at 0x7f15b0323310>\n",
            "37: <keras.layers.convolutional.DepthwiseConv2D object at 0x7f15b034d750>\n",
            "38: <keras.layers.normalization.batch_normalization.BatchNormalization object at 0x7f15b0352f10>\n",
            "39: <keras.layers.advanced_activations.ReLU object at 0x7f15b02ddbd0>\n",
            "40: <keras.layers.convolutional.Conv2D object at 0x7f15b02dd210>\n",
            "41: <keras.layers.normalization.batch_normalization.BatchNormalization object at 0x7f15b033a990>\n",
            "42: <keras.layers.advanced_activations.ReLU object at 0x7f15b031f8d0>\n",
            "43: <keras.layers.convolutional.DepthwiseConv2D object at 0x7f15b039ad90>\n",
            "44: <keras.layers.normalization.batch_normalization.BatchNormalization object at 0x7f15b036dcd0>\n",
            "45: <keras.layers.advanced_activations.ReLU object at 0x7f15b03ae9d0>\n",
            "46: <keras.layers.convolutional.Conv2D object at 0x7f15b03c0810>\n",
            "47: <keras.layers.normalization.batch_normalization.BatchNormalization object at 0x7f15b033c710>\n",
            "48: <keras.layers.advanced_activations.ReLU object at 0x7f15b02e36d0>\n",
            "49: <keras.layers.convolutional.DepthwiseConv2D object at 0x7f15b02e5250>\n",
            "50: <keras.layers.normalization.batch_normalization.BatchNormalization object at 0x7f15b02ea3d0>\n",
            "51: <keras.layers.advanced_activations.ReLU object at 0x7f15b02eec90>\n",
            "52: <keras.layers.convolutional.Conv2D object at 0x7f15b02f2510>\n",
            "53: <keras.layers.normalization.batch_normalization.BatchNormalization object at 0x7f15b02fb7d0>\n",
            "54: <keras.layers.advanced_activations.ReLU object at 0x7f15c0248e10>\n",
            "55: <keras.layers.convolutional.DepthwiseConv2D object at 0x7f15b0300f10>\n",
            "56: <keras.layers.normalization.batch_normalization.BatchNormalization object at 0x7f15b0305110>\n",
            "57: <keras.layers.advanced_activations.ReLU object at 0x7f15b0312f10>\n",
            "58: <keras.layers.convolutional.Conv2D object at 0x7f15b0319950>\n",
            "59: <keras.layers.normalization.batch_normalization.BatchNormalization object at 0x7f15b0300f90>\n",
            "60: <keras.layers.advanced_activations.ReLU object at 0x7f15b02ac490>\n",
            "61: <keras.layers.convolutional.DepthwiseConv2D object at 0x7f15b02a7f50>\n",
            "62: <keras.layers.normalization.batch_normalization.BatchNormalization object at 0x7f15b02b4e90>\n",
            "63: <keras.layers.advanced_activations.ReLU object at 0x7f15b02b8f90>\n",
            "64: <keras.layers.convolutional.Conv2D object at 0x7f15b02bd8d0>\n",
            "65: <keras.layers.normalization.batch_normalization.BatchNormalization object at 0x7f15b02c8810>\n",
            "66: <keras.layers.advanced_activations.ReLU object at 0x7f15b02cb390>\n",
            "67: <keras.layers.convolutional.DepthwiseConv2D object at 0x7f15b02cbfd0>\n",
            "68: <keras.layers.normalization.batch_normalization.BatchNormalization object at 0x7f15b02d8950>\n",
            "69: <keras.layers.advanced_activations.ReLU object at 0x7f15b0263b10>\n",
            "70: <keras.layers.convolutional.Conv2D object at 0x7f15b02637d0>\n",
            "71: <keras.layers.normalization.batch_normalization.BatchNormalization object at 0x7f15b02d4290>\n",
            "72: <keras.layers.advanced_activations.ReLU object at 0x7f15b0279750>\n",
            "73: <keras.layers.convolutional.ZeroPadding2D object at 0x7f15b02c86d0>\n",
            "74: <keras.layers.convolutional.DepthwiseConv2D object at 0x7f15b0279610>\n",
            "75: <keras.layers.normalization.batch_normalization.BatchNormalization object at 0x7f15b028c790>\n",
            "76: <keras.layers.advanced_activations.ReLU object at 0x7f15b0290d10>\n",
            "77: <keras.layers.convolutional.Conv2D object at 0x7f15b0288150>\n",
            "78: <keras.layers.normalization.batch_normalization.BatchNormalization object at 0x7f15b0267890>\n",
            "79: <keras.layers.advanced_activations.ReLU object at 0x7f15b02cb910>\n",
            "80: <keras.layers.convolutional.DepthwiseConv2D object at 0x7f15b02d4d10>\n",
            "81: <keras.layers.normalization.batch_normalization.BatchNormalization object at 0x7f15b02b1cd0>\n",
            "82: <keras.layers.advanced_activations.ReLU object at 0x7f15b030f350>\n",
            "83: <keras.layers.convolutional.Conv2D object at 0x7f15b0312d90>\n",
            "84: <keras.layers.normalization.batch_normalization.BatchNormalization object at 0x7f15b02ee790>\n",
            "85: <keras.layers.advanced_activations.ReLU object at 0x7f15b02e3ad0>\n",
            "86: <keras.layers.pooling.GlobalAveragePooling2D object at 0x7f15b03d2c10>\n",
            "87: <keras.layers.core.dense.Dense object at 0x7f15befb8e10>\n",
            "88: <keras.layers.core.dropout.Dropout object at 0x7f15b021e310>\n",
            "89: <keras.layers.core.dense.Dense object at 0x7f15b024d990>\n",
            "90: <keras.layers.core.dropout.Dropout object at 0x7f15b021fd10>\n",
            "91: <keras.layers.core.dense.Dense object at 0x7f15b0241050>\n"
          ]
        }
      ],
      "source": [
        "for i,layer in enumerate(model.layers):\n",
        "  print(\"{}: {}\".format(i,layer))"
      ]
    },
    {
      "cell_type": "code",
      "execution_count": null,
      "metadata": {
        "id": "GmCLNHFyB_Rr"
      },
      "outputs": [],
      "source": [
        "for layer in model.layers[:87]:\n",
        "    layer.trainable=False\n",
        "for layer in model.layers[87:]:\n",
        "    layer.trainable=True"
      ]
    },
    {
      "cell_type": "code",
      "execution_count": null,
      "metadata": {
        "colab": {
          "base_uri": "https://localhost:8080/"
        },
        "id": "tKrS3CP-CDTF",
        "outputId": "f83d5958-2ff7-4c5e-eb1d-5d972ac029aa"
      },
      "outputs": [
        {
          "name": "stdout",
          "output_type": "stream",
          "text": [
            "Found 9353 images belonging to 4 classes.\n",
            "Found 2337 images belonging to 4 classes.\n"
          ]
        }
      ],
      "source": [
        "train_datagen=ImageDataGenerator(preprocessing_function=keras.applications.mobilenet.preprocess_input,\n",
        "                                 validation_split=0.2)\n",
        "\n",
        "train_generator=train_datagen.flow_from_directory('/content/drive/MyDrive/Final year project /Dataset/Segmented',\n",
        "                                                 target_size=(224,224),\n",
        "                                                 batch_size=64,\n",
        "                                                 class_mode='categorical',\n",
        "                                                 subset='training')\n",
        "\n",
        "\n",
        "validation_generator = train_datagen.flow_from_directory('/content/drive/MyDrive/Final year project /Dataset/Segmented', # same directory as training data\n",
        "                                                target_size=(224,224),\n",
        "                                                batch_size=64,\n",
        "                                                class_mode='categorical',\n",
        "                                                subset='validation') # set as validation data"
      ]
    },
    {
      "cell_type": "code",
      "execution_count": null,
      "metadata": {
        "colab": {
          "base_uri": "https://localhost:8080/"
        },
        "id": "FmO3v8HTCZZI",
        "outputId": "309e736d-f595-436f-8668-917e7678447e"
      },
      "outputs": [
        {
          "name": "stderr",
          "output_type": "stream",
          "text": [
            "/usr/local/lib/python3.7/dist-packages/keras/optimizer_v2/adam.py:105: UserWarning: The `lr` argument is deprecated, use `learning_rate` instead.\n",
            "  super(Adam, self).__init__(name, **kwargs)\n"
          ]
        }
      ],
      "source": [
        "epochs = 20\n",
        "learning_rate = 0.0001\n",
        "decay_rate = learning_rate / epochs\n",
        "opt = Adam(lr=learning_rate, beta_1=0.9, beta_2=0.999, epsilon=None, decay=decay_rate, amsgrad=False)\n",
        "model.compile(optimizer=opt,loss='categorical_crossentropy',metrics=['accuracy'])"
      ]
    },
    {
      "cell_type": "code",
      "execution_count": null,
      "metadata": {
        "id": "7khLzW2BChWc"
      },
      "outputs": [],
      "source": [
        "from keras.callbacks import ModelCheckpoint\n",
        "from keras.callbacks import TensorBoard\n",
        "\n",
        "!mkdir ckpt\n",
        "!mkdir logs\n",
        "\n",
        "filepath=\"ckpt/best.hdf5\"\n",
        "checkpoint = ModelCheckpoint(filepath, monitor='val_loss', verbose=1, save_weights_only = False, save_best_only=True, mode='min')\n",
        "logdir=\"logs/mobilenet\"\n",
        "tfboard = TensorBoard(log_dir=logdir)\n",
        "\n",
        "callbacks_list = [checkpoint, tfboard]"
      ]
    },
    {
      "cell_type": "code",
      "execution_count": null,
      "metadata": {
        "colab": {
          "background_save": true,
          "base_uri": "https://localhost:8080/"
        },
        "id": "5uMx31rlCll0",
        "outputId": "0f6b8962-3328-4f28-cb0b-1fada61795bf"
      },
      "outputs": [
        {
          "name": "stderr",
          "output_type": "stream",
          "text": [
            "/usr/local/lib/python3.7/dist-packages/ipykernel_launcher.py:8: UserWarning: `Model.fit_generator` is deprecated and will be removed in a future version. Please use `Model.fit`, which supports generators.\n",
            "  \n"
          ]
        },
        {
          "name": "stdout",
          "output_type": "stream",
          "text": [
            "Epoch 1/20\n",
            "147/146 [==============================] - ETA: -9s - loss: 0.4392 - accuracy: 0.8302\n",
            "Epoch 1: val_loss improved from inf to 0.25459, saving model to ckpt/best.hdf5\n",
            "146/146 [==============================] - 2097s 14s/step - loss: 0.4392 - accuracy: 0.8302 - val_loss: 0.2546 - val_accuracy: 0.9188\n",
            "Epoch 2/20\n",
            "147/146 [==============================] - ETA: 0s - loss: 0.2347 - accuracy: 0.9140\n",
            "Epoch 2: val_loss improved from 0.25459 to 0.23256, saving model to ckpt/best.hdf5\n",
            "146/146 [==============================] - 37s 256ms/step - loss: 0.2347 - accuracy: 0.9140 - val_loss: 0.2326 - val_accuracy: 0.9206\n",
            "Epoch 3/20\n",
            "147/146 [==============================] - ETA: 0s - loss: 0.1938 - accuracy: 0.9269\n",
            "Epoch 3: val_loss improved from 0.23256 to 0.19172, saving model to ckpt/best.hdf5\n",
            "146/146 [==============================] - 37s 255ms/step - loss: 0.1938 - accuracy: 0.9269 - val_loss: 0.1917 - val_accuracy: 0.9379\n",
            "Epoch 4/20\n",
            "147/146 [==============================] - ETA: 0s - loss: 0.1567 - accuracy: 0.9409\n",
            "Epoch 4: val_loss improved from 0.19172 to 0.17759, saving model to ckpt/best.hdf5\n",
            "146/146 [==============================] - 38s 259ms/step - loss: 0.1567 - accuracy: 0.9409 - val_loss: 0.1776 - val_accuracy: 0.9436\n",
            "Epoch 5/20\n",
            "147/146 [==============================] - ETA: 0s - loss: 0.1392 - accuracy: 0.9507\n",
            "Epoch 5: val_loss did not improve from 0.17759\n",
            "146/146 [==============================] - 37s 253ms/step - loss: 0.1392 - accuracy: 0.9507 - val_loss: 0.1796 - val_accuracy: 0.9431\n",
            "Epoch 6/20\n",
            "147/146 [==============================] - ETA: 0s - loss: 0.1287 - accuracy: 0.9525\n",
            "Epoch 6: val_loss improved from 0.17759 to 0.16617, saving model to ckpt/best.hdf5\n",
            "146/146 [==============================] - 37s 254ms/step - loss: 0.1287 - accuracy: 0.9525 - val_loss: 0.1662 - val_accuracy: 0.9497\n",
            "Epoch 7/20\n",
            "147/146 [==============================] - ETA: 0s - loss: 0.1193 - accuracy: 0.9557\n",
            "Epoch 7: val_loss improved from 0.16617 to 0.16439, saving model to ckpt/best.hdf5\n",
            "146/146 [==============================] - 37s 253ms/step - loss: 0.1193 - accuracy: 0.9557 - val_loss: 0.1644 - val_accuracy: 0.9466\n",
            "Epoch 8/20\n",
            "147/146 [==============================] - ETA: 0s - loss: 0.1062 - accuracy: 0.9609\n",
            "Epoch 8: val_loss did not improve from 0.16439\n",
            "146/146 [==============================] - 37s 253ms/step - loss: 0.1062 - accuracy: 0.9609 - val_loss: 0.1833 - val_accuracy: 0.9427\n",
            "Epoch 9/20\n",
            "147/146 [==============================] - ETA: 0s - loss: 0.0952 - accuracy: 0.9658\n",
            "Epoch 9: val_loss did not improve from 0.16439\n",
            "146/146 [==============================] - 37s 252ms/step - loss: 0.0952 - accuracy: 0.9658 - val_loss: 0.1889 - val_accuracy: 0.9457\n",
            "Epoch 10/20\n",
            "147/146 [==============================] - ETA: 0s - loss: 0.0859 - accuracy: 0.9688\n",
            "Epoch 10: val_loss did not improve from 0.16439\n",
            "146/146 [==============================] - 37s 251ms/step - loss: 0.0859 - accuracy: 0.9688 - val_loss: 0.1835 - val_accuracy: 0.9488\n",
            "Epoch 11/20\n",
            "147/146 [==============================] - ETA: 0s - loss: 0.0770 - accuracy: 0.9742\n",
            "Epoch 11: val_loss improved from 0.16439 to 0.15746, saving model to ckpt/best.hdf5\n",
            "146/146 [==============================] - 37s 252ms/step - loss: 0.0770 - accuracy: 0.9742 - val_loss: 0.1575 - val_accuracy: 0.9510\n",
            "Epoch 12/20\n",
            "147/146 [==============================] - ETA: 0s - loss: 0.0709 - accuracy: 0.9754\n",
            "Epoch 12: val_loss did not improve from 0.15746\n",
            "146/146 [==============================] - 37s 251ms/step - loss: 0.0709 - accuracy: 0.9754 - val_loss: 0.1629 - val_accuracy: 0.9540\n",
            "Epoch 13/20\n",
            "147/146 [==============================] - ETA: 0s - loss: 0.0674 - accuracy: 0.9763\n",
            "Epoch 13: val_loss did not improve from 0.15746\n",
            "146/146 [==============================] - 37s 252ms/step - loss: 0.0674 - accuracy: 0.9763 - val_loss: 0.1690 - val_accuracy: 0.9488\n",
            "Epoch 14/20\n",
            "147/146 [==============================] - ETA: 0s - loss: 0.0596 - accuracy: 0.9794\n",
            "Epoch 14: val_loss did not improve from 0.15746\n",
            "146/146 [==============================] - 40s 273ms/step - loss: 0.0596 - accuracy: 0.9794 - val_loss: 0.1632 - val_accuracy: 0.9501\n",
            "Epoch 15/20\n",
            "147/146 [==============================] - ETA: 0s - loss: 0.0542 - accuracy: 0.9825\n",
            "Epoch 15: val_loss did not improve from 0.15746\n",
            "146/146 [==============================] - 37s 250ms/step - loss: 0.0542 - accuracy: 0.9825 - val_loss: 0.1756 - val_accuracy: 0.9553\n",
            "Epoch 16/20\n",
            "147/146 [==============================] - ETA: 0s - loss: 0.0471 - accuracy: 0.9840\n",
            "Epoch 16: val_loss did not improve from 0.15746\n",
            "146/146 [==============================] - 37s 251ms/step - loss: 0.0471 - accuracy: 0.9840 - val_loss: 0.2099 - val_accuracy: 0.9431\n",
            "Epoch 17/20\n",
            "147/146 [==============================] - ETA: 0s - loss: 0.0440 - accuracy: 0.9839\n",
            "Epoch 17: val_loss did not improve from 0.15746\n",
            "146/146 [==============================] - 37s 253ms/step - loss: 0.0440 - accuracy: 0.9839 - val_loss: 0.1659 - val_accuracy: 0.9536\n",
            "Epoch 18/20\n",
            "147/146 [==============================] - ETA: 0s - loss: 0.0360 - accuracy: 0.9887\n",
            "Epoch 18: val_loss did not improve from 0.15746\n",
            "146/146 [==============================] - 37s 251ms/step - loss: 0.0360 - accuracy: 0.9887 - val_loss: 0.1837 - val_accuracy: 0.9540\n",
            "Epoch 19/20\n",
            "147/146 [==============================] - ETA: 0s - loss: 0.0352 - accuracy: 0.9880\n",
            "Epoch 19: val_loss did not improve from 0.15746\n",
            "146/146 [==============================] - 37s 251ms/step - loss: 0.0352 - accuracy: 0.9880 - val_loss: 0.1898 - val_accuracy: 0.9484\n",
            "Epoch 20/20\n",
            "147/146 [==============================] - ETA: 0s - loss: 0.0329 - accuracy: 0.9892\n",
            "Epoch 20: val_loss did not improve from 0.15746\n",
            "146/146 [==============================] - 37s 251ms/step - loss: 0.0329 - accuracy: 0.9892 - val_loss: 0.1751 - val_accuracy: 0.9510\n"
          ]
        }
      ],
      "source": [
        "step_size_train = train_generator.n/train_generator.batch_size\n",
        "step_size_val = validation_generator.samples // validation_generator.batch_size\n",
        "history = model.fit_generator(generator=train_generator,\n",
        "                   steps_per_epoch=step_size_train,\n",
        "                   validation_data = validation_generator, \n",
        "                   validation_steps =step_size_val,\n",
        "                   callbacks = callbacks_list,\n",
        "                   epochs=20)\n"
      ]
    },
    {
      "cell_type": "code",
      "source": [
        ""
      ],
      "metadata": {
        "id": "3xKT22VZxchO"
      },
      "execution_count": null,
      "outputs": []
    },
    {
      "cell_type": "code",
      "execution_count": null,
      "metadata": {
        "colab": {
          "background_save": true
        },
        "id": "6WBYB_dUMajb"
      },
      "outputs": [],
      "source": [
        "model.save('/content/drive/MyDrive/Final year project /Dataset/lung_mobilenet_segmented.h5')"
      ]
    },
    {
      "cell_type": "code",
      "execution_count": null,
      "metadata": {
        "colab": {
          "background_save": true
        },
        "id": "SsYkKtJHC4Qd",
        "outputId": "200dba44-7b15-4b08-d9ea-3b8a4355e662"
      },
      "outputs": [
        {
          "data": {
            "image/png": "[encoded data removed]",
            "text/plain": [
              "<Figure size 432x288 with 1 Axes>"
            ]
          },
          "metadata": {},
          "output_type": "display_data"
        },
        {
          "data": {
            "text/plain": [
              "<Figure size 432x288 with 0 Axes>"
            ]
          },
          "metadata": {},
          "output_type": "display_data"
        }
      ],
      "source": [
        "import matplotlib.pyplot as plt\n",
        "acc = history.history['accuracy']\n",
        "val_acc = history.history['val_accuracy']\n",
        "loss = history.history['loss']\n",
        "val_loss = history.history['val_loss']\n",
        "\n",
        "epochs = range(len(acc))\n",
        "\n",
        "plt.plot(epochs, acc, 'r', label='Training accuracy')\n",
        "plt.plot(epochs, val_acc, 'b', label='Validation accuracy')\n",
        "plt.title('Training and validation accuracy')\n",
        "plt.legend(loc=0)\n",
        "plt.figure()\n",
        "\n",
        "\n",
        "\n",
        "plt.show()"
      ]
    },
    {
      "cell_type": "code",
      "execution_count": null,
      "metadata": {
        "colab": {
          "background_save": true
        },
        "id": "k_BwAl7UC78X",
        "outputId": "45978e91-6fe2-49f0-bbe2-054e4a7b81a7"
      },
      "outputs": [
        {
          "data": {
            "text/plain": [
              "<Figure size 432x288 with 0 Axes>"
            ]
          },
          "execution_count": null,
          "metadata": {},
          "output_type": "execute_result"
        },
        {
          "data": {
            "image/png": "[encoded data removed]",
            "text/plain": [
              "<Figure size 432x288 with 1 Axes>"
            ]
          },
          "metadata": {},
          "output_type": "display_data"
        },
        {
          "data": {
            "text/plain": [
              "<Figure size 432x288 with 0 Axes>"
            ]
          },
          "metadata": {},
          "output_type": "display_data"
        }
      ],
      "source": [
        "plt.plot(epochs, loss, 'r', label='Training loss')\n",
        "plt.plot(epochs, val_loss, 'b', label='Validationloss')\n",
        "plt.title('Training and validation loss')\n",
        "plt.legend(loc=0)\n",
        "plt.figure()"
      ]
    },
    {
      "cell_type": "code",
      "execution_count": null,
      "metadata": {
        "colab": {
          "background_save": true
        },
        "id": "vIIuTvDLC-7d",
        "outputId": "1ebf7d03-3150-4719-ba3b-763a8a7114b7"
      },
      "outputs": [
        {
          "name": "stderr",
          "output_type": "stream",
          "text": [
            "Clipping input data to the valid range for imshow with RGB data ([0..1] for floats or [0..255] for integers).\n"
          ]
        },
        {
          "data": {
            "image/png": "[encoded data removed]",
            "text/plain": [
              "<Figure size 432x288 with 1 Axes>"
            ]
          },
          "metadata": {},
          "output_type": "display_data"
        },
        {
          "name": "stdout",
          "output_type": "stream",
          "text": [
            "True label: Normal\n",
            "Predicted label: Normal\n"
          ]
        }
      ],
      "source": [
        "def get_class_string_from_index(index):\n",
        "   for class_string, class_index in validation_generator.class_indices.items():\n",
        "      if class_index == index:\n",
        "         return class_string\n",
        "\n",
        "x, y = next(validation_generator)\n",
        "image = x[0, :, :, :]\n",
        "true_index = np.argmax(y[0])\n",
        "plt.imshow(image)\n",
        "plt.axis('off')\n",
        "plt.show()\n",
        "\n",
        "# Expand the validation image to (1, 224, 224, 3) before predicting the label\n",
        "prediction_scores = model.predict(np.expand_dims(image, axis=0))\n",
        "predicted_index = np.argmax(prediction_scores)\n",
        "print(\"True label: \" + get_class_string_from_index(true_index))\n",
        "print(\"Predicted label: \" + get_class_string_from_index(predicted_index))"
      ]
    },
    {
      "cell_type": "code",
      "execution_count": null,
      "metadata": {
        "colab": {
          "background_save": true
        },
        "id": "h5Qy455slbUf",
        "outputId": "79660f7a-03dc-4245-9262-76cf09a33c9a"
      },
      "outputs": [
        {
          "name": "stdout",
          "output_type": "stream",
          "text": [
            "[3]\n",
            "TUBERCOLOSIS\n"
          ]
        }
      ],
      "source": [
        "import cv2\n",
        "import tensorflow as tf\n",
        "\n",
        "CATEGORIES= ['COVID19','NORMAL','PNEUMONIA','TUBERCOLOSIS']\n",
        "def prepare(filepath):\n",
        "    IMG_SIZE=224\n",
        "    img_array=cv2.imread(filepath)\n",
        "    img_array = img_array / 255.0\n",
        "    new_array=cv2.resize(img_array,(IMG_SIZE,IMG_SIZE))\n",
        "    return new_array.reshape(-1,IMG_SIZE,IMG_SIZE,3)\n",
        "\n",
        "\n",
        "prediction = model.predict(prepare('/content/drive/MyDrive/Final year project /Dataset/Segmented/Tubercolosis/Tubercolosis-1.png'))\n",
        "prediction = np.argmax(prediction,-1)\n",
        "print(prediction)\n",
        "print(CATEGORIES[int(prediction[0])])"
      ]
    },
    {
      "cell_type": "markdown",
      "metadata": {
        "id": "WUWxbhUKnHo4"
      },
      "source": [
        "Testing the model\n"
      ]
    },
    {
      "cell_type": "code",
      "execution_count": null,
      "metadata": {
        "colab": {
          "base_uri": "https://localhost:8080/"
        },
        "id": "FFoTs2IdnSIR",
        "outputId": "ea160118-accb-43a7-ad51-a0d06ba190b6"
      },
      "outputs": [
        {
          "output_type": "stream",
          "name": "stdout",
          "text": [
            "Mounted at /content/drive\n"
          ]
        }
      ],
      "source": [
        "from google.colab import drive\n",
        "drive.mount('/content/drive')"
      ]
    },
    {
      "cell_type": "code",
      "execution_count": null,
      "metadata": {
        "id": "BCfToyO8DEcN"
      },
      "outputs": [],
      "source": [
        "import cv2\n",
        "import numpy as np\n",
        "import tensorflow as tf\n",
        "import keras\n",
        "from keras import backend as K\n",
        "from tensorflow.keras.optimizers import Adam\n",
        "from keras.metrics import categorical_crossentropy\n",
        "from keras.preprocessing.image import ImageDataGenerator\n",
        "from keras.models import Model\n",
        "from keras.layers import Dense,GlobalAveragePooling2D,Dropout,SeparableConv2D,BatchNormalization, Activation, Dense\n",
        "from keras.applications.mobilenet import MobileNet"
      ]
    },
    {
      "cell_type": "code",
      "execution_count": null,
      "metadata": {
        "id": "4iuH9PElEBeM"
      },
      "outputs": [],
      "source": [
        "model = tf.keras.models.load_model('/content/drive/MyDrive/Final year project /Models/lung_mobilenet_segmented.h5')"
      ]
    },
    {
      "cell_type": "code",
      "execution_count": null,
      "metadata": {
        "colab": {
          "base_uri": "https://localhost:8080/"
        },
        "id": "Xsz5U3pK5G7t",
        "outputId": "48ba93a7-27d6-4e78-b437-227149fa5fd2"
      },
      "outputs": [
        {
          "output_type": "stream",
          "name": "stdout",
          "text": [
            "Found 9353 images belonging to 4 classes.\n",
            "Found 2337 images belonging to 4 classes.\n"
          ]
        }
      ],
      "source": [
        "train_datagen=ImageDataGenerator(preprocessing_function=keras.applications.mobilenet.preprocess_input,\n",
        "                                 validation_split=0.2)\n",
        "\n",
        "train_generator=train_datagen.flow_from_directory('/content/drive/MyDrive/Final year project /Dataset/Segmented',\n",
        "                                                 target_size=(224,224),\n",
        "                                                 batch_size=64,\n",
        "                                                 class_mode='categorical',\n",
        "                                                 subset='training')\n",
        "\n",
        "\n",
        "validation_generator = train_datagen.flow_from_directory('/content/drive/MyDrive/Final year project /Dataset/Segmented', # same directory as training data\n",
        "                                                target_size=(224,224),\n",
        "                                                batch_size=64,\n",
        "                                                class_mode='categorical',\n",
        "                                                subset='validation') # set as validation data"
      ]
    },
    {
      "cell_type": "code",
      "execution_count": null,
      "metadata": {
        "colab": {
          "base_uri": "https://localhost:8080/",
          "height": 303
        },
        "id": "vQ9I_m0nkJW1",
        "outputId": "f714e2ae-55c1-4de7-eefc-b99e9ec18bd2"
      },
      "outputs": [
        {
          "output_type": "stream",
          "name": "stderr",
          "text": [
            "Clipping input data to the valid range for imshow with RGB data ([0..1] for floats or [0..255] for integers).\n"
          ]
        },
        {
          "output_type": "display_data",
          "data": {
            "text/plain": [
              "<Figure size 432x288 with 1 Axes>"
            ],
            "image/png": "[encoded data removed]"
          },
          "metadata": {
            "needs_background": "light"
          }
        },
        {
          "output_type": "stream",
          "name": "stdout",
          "text": [
            "True label: Pneumonia\n",
            "Predicted label: Pneumonia\n"
          ]
        }
      ],
      "source": [
        "import matplotlib.pyplot as plt\n",
        "def get_class_string_from_index(index):\n",
        "   for class_string, class_index in validation_generator.class_indices.items():\n",
        "      if class_index == index:\n",
        "         return class_string\n",
        "\n",
        "x, y = next(validation_generator)\n",
        "image = x[0, :, :, :]\n",
        "true_index = np.argmax(y[0])\n",
        "plt.imshow(image)\n",
        "plt.axis('off')\n",
        "plt.show()\n",
        "\n",
        "# Expand the validation image to (1, 224, 224, 3) before predicting the label\n",
        "prediction_scores = model.predict(np.expand_dims(image, axis=0))\n",
        "predicted_index = np.argmax(prediction_scores)\n",
        "print(\"True label: \" + get_class_string_from_index(true_index))\n",
        "print(\"Predicted label: \" + get_class_string_from_index(predicted_index))"
      ]
    },
    {
      "cell_type": "code",
      "execution_count": null,
      "metadata": {
        "colab": {
          "base_uri": "https://localhost:8080/"
        },
        "id": "m7pzRriUEJyB",
        "outputId": "a9cb316b-f183-42b8-a780-16f0ae1676d9"
      },
      "outputs": [
        {
          "output_type": "stream",
          "name": "stdout",
          "text": [
            "[3]\n",
            "TUBERCOLOSIS\n"
          ]
        }
      ],
      "source": [
        "import cv2\n",
        "import tensorflow as tf\n",
        "\n",
        "CATEGORIES= ['COVID19','NORMAL','PNEUMONIA','TUBERCOLOSIS']\n",
        "def prepare(filepath):\n",
        "    IMG_SIZE=224\n",
        "    img_array=cv2.imread(filepath)\n",
        "    img_array = img_array / 255.0\n",
        "    new_array=cv2.resize(img_array,(IMG_SIZE,IMG_SIZE))\n",
        "    return new_array.reshape(-1,IMG_SIZE,IMG_SIZE,3)\n",
        "\n",
        "\n",
        "prediction = model.predict(prepare('/content/drive/MyDrive/Final year project /Dataset/Segmented/Tubercolosis/Tuberculosis-10.png'))\n",
        "prediction = np.argmax(prediction,-1)\n",
        "print(prediction)\n",
        "print(CATEGORIES[int(prediction[0])])"
      ]
    },
    {
      "cell_type": "code",
      "source": [
        ""
      ],
      "metadata": {
        "id": "3W-_1A0QyeLc"
      },
      "execution_count": null,
      "outputs": []
    }
  ],
  "metadata": {
    "accelerator": "GPU",
    "colab": {
      "collapsed_sections": [],
      "name": "Lung_disease_mobilenet_Segmented.ipynb",
      "provenance": []
    },
    "kernelspec": {
      "display_name": "Python 3",
      "name": "python3"
    }
  },
  "nbformat": 4,
  "nbformat_minor": 0
}