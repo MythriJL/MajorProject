{
  "nbformat": 4,
  "nbformat_minor": 0,
  "metadata": {
    "accelerator": "GPU",
    "colab": {
      "name": "Lungs_VGG16_Segmented.ipynb",
      "provenance": [],
      "collapsed_sections": []
    },
    "kernelspec": {
      "display_name": "Python 3",
      "name": "python3"
    }
  },
  "cells": [
    {
      "cell_type": "code",
      "metadata": {
        "id": "L550X4rNKajk",
        "colab": {
          "base_uri": "https://localhost:8080/"
        },
        "outputId": "c7939a13-1420-4cbb-f8ab-90028786767a"
      },
      "source": [
        "from google.colab import drive\n",
        "drive.mount('/content/drive')"
      ],
      "execution_count": null,
      "outputs": [
        {
          "output_type": "stream",
          "name": "stdout",
          "text": [
            "Mounted at /content/drive\n"
          ]
        }
      ]
    },
    {
      "cell_type": "code",
      "metadata": {
        "id": "rsvpxziKKmTs"
      },
      "source": [
        "#import needed packages\n",
        "import cv2\n",
        "import numpy as np\n",
        "import tensorflow as tf\n",
        "import keras\n",
        "from keras import backend as K\n",
        "from tensorflow.keras.optimizers import Adam\n",
        "from keras.metrics import categorical_crossentropy\n",
        "from keras.preprocessing.image import ImageDataGenerator\n",
        "from keras.models import Model, Sequential\n",
        "from keras.layers import Dense,GlobalAveragePooling2D,Dropout,Conv2D,BatchNormalization, Activation, Dense, Flatten\n",
        "from keras.applications.vgg16 import VGG16\n",
        "from keras.applications.vgg16 import preprocess_input\n"
      ],
      "execution_count": null,
      "outputs": []
    },
    {
      "cell_type": "code",
      "metadata": {
        "id": "Bc1dlzuPuO0b",
        "colab": {
          "base_uri": "https://localhost:8080/"
        },
        "outputId": "dfe67739-8574-45b0-f4bf-165a5c47542d"
      },
      "source": [
        "# Base model without Fully connected Layers\n",
        "base_model = VGG16(include_top=False, weights='imagenet', input_shape=(224,224,3))\n",
        "x=base_model.output"
      ],
      "execution_count": null,
      "outputs": [
        {
          "output_type": "stream",
          "name": "stdout",
          "text": [
            "Downloading data from https://storage.googleapis.com/tensorflow/keras-applications/vgg16/vgg16_weights_tf_dim_ordering_tf_kernels_notop.h5\n",
            "58892288/58889256 [==============================] - 1s 0us/step\n",
            "58900480/58889256 [==============================] - 1s 0us/step\n"
          ]
        }
      ]
    },
    {
      "cell_type": "code",
      "metadata": {
        "id": "JwytosevRVFQ"
      },
      "source": [
        "for layer in base_model.layers[:26]:\n",
        "    layer.trainable = False"
      ],
      "execution_count": null,
      "outputs": []
    },
    {
      "cell_type": "code",
      "metadata": {
        "id": "05rc1PclKtJP"
      },
      "source": [
        "num_class = 4\n",
        " \n",
        "x=Flatten()(x)\n",
        "x=Dense(4096, activation='relu')(x) \n",
        "x = Dense(4096, activation='relu')(x)\n",
        "\n",
        "preds=Dense(num_class, activation='softmax')(x) #final layer with softmax activation\n",
        "\n",
        "model = Model(inputs=base_model.input,outputs=preds)"
      ],
      "execution_count": null,
      "outputs": []
    },
    {
      "cell_type": "code",
      "metadata": {
        "colab": {
          "base_uri": "https://localhost:8080/"
        },
        "id": "DnSW5gYqK4MS",
        "outputId": "faf424da-6cee-445f-fb42-7b831dabecb0"
      },
      "source": [
        "model.summary()"
      ],
      "execution_count": null,
      "outputs": [
        {
          "output_type": "stream",
          "name": "stdout",
          "text": [
            "Model: \"model\"\n",
            "_________________________________________________________________\n",
            " Layer (type)                Output Shape              Param #   \n",
            "=================================================================\n",
            " input_1 (InputLayer)        [(None, 224, 224, 3)]     0         \n",
            "                                                                 \n",
            " block1_conv1 (Conv2D)       (None, 224, 224, 64)      1792      \n",
            "                                                                 \n",
            " block1_conv2 (Conv2D)       (None, 224, 224, 64)      36928     \n",
            "                                                                 \n",
            " block1_pool (MaxPooling2D)  (None, 112, 112, 64)      0         \n",
            "                                                                 \n",
            " block2_conv1 (Conv2D)       (None, 112, 112, 128)     73856     \n",
            "                                                                 \n",
            " block2_conv2 (Conv2D)       (None, 112, 112, 128)     147584    \n",
            "                                                                 \n",
            " block2_pool (MaxPooling2D)  (None, 56, 56, 128)       0         \n",
            "                                                                 \n",
            " block3_conv1 (Conv2D)       (None, 56, 56, 256)       295168    \n",
            "                                                                 \n",
            " block3_conv2 (Conv2D)       (None, 56, 56, 256)       590080    \n",
            "                                                                 \n",
            " block3_conv3 (Conv2D)       (None, 56, 56, 256)       590080    \n",
            "                                                                 \n",
            " block3_pool (MaxPooling2D)  (None, 28, 28, 256)       0         \n",
            "                                                                 \n",
            " block4_conv1 (Conv2D)       (None, 28, 28, 512)       1180160   \n",
            "                                                                 \n",
            " block4_conv2 (Conv2D)       (None, 28, 28, 512)       2359808   \n",
            "                                                                 \n",
            " block4_conv3 (Conv2D)       (None, 28, 28, 512)       2359808   \n",
            "                                                                 \n",
            " block4_pool (MaxPooling2D)  (None, 14, 14, 512)       0         \n",
            "                                                                 \n",
            " block5_conv1 (Conv2D)       (None, 14, 14, 512)       2359808   \n",
            "                                                                 \n",
            " block5_conv2 (Conv2D)       (None, 14, 14, 512)       2359808   \n",
            "                                                                 \n",
            " block5_conv3 (Conv2D)       (None, 14, 14, 512)       2359808   \n",
            "                                                                 \n",
            " block5_pool (MaxPooling2D)  (None, 7, 7, 512)         0         \n",
            "                                                                 \n",
            " flatten (Flatten)           (None, 25088)             0         \n",
            "                                                                 \n",
            " dense (Dense)               (None, 4096)              102764544 \n",
            "                                                                 \n",
            " dense_1 (Dense)             (None, 4096)              16781312  \n",
            "                                                                 \n",
            " dense_2 (Dense)             (None, 4)                 16388     \n",
            "                                                                 \n",
            "=================================================================\n",
            "Total params: 134,276,932\n",
            "Trainable params: 119,562,244\n",
            "Non-trainable params: 14,714,688\n",
            "_________________________________________________________________\n"
          ]
        }
      ]
    },
    {
      "cell_type": "code",
      "metadata": {
        "colab": {
          "base_uri": "https://localhost:8080/"
        },
        "id": "qug9BxujK5E-",
        "outputId": "104dab58-8494-4137-9412-598c2574040a"
      },
      "source": [
        "for i,layer in enumerate(model.layers):\n",
        "  print(\"{}: {}\".format(i,layer))"
      ],
      "execution_count": null,
      "outputs": [
        {
          "output_type": "stream",
          "name": "stdout",
          "text": [
            "0: <keras.engine.input_layer.InputLayer object at 0x7f352661f210>\n",
            "1: <keras.layers.convolutional.Conv2D object at 0x7f35202ac190>\n",
            "2: <keras.layers.convolutional.Conv2D object at 0x7f351fd97110>\n",
            "3: <keras.layers.pooling.MaxPooling2D object at 0x7f351e246410>\n",
            "4: <keras.layers.convolutional.Conv2D object at 0x7f351018d210>\n",
            "5: <keras.layers.convolutional.Conv2D object at 0x7f35101924d0>\n",
            "6: <keras.layers.pooling.MaxPooling2D object at 0x7f351019c650>\n",
            "7: <keras.layers.convolutional.Conv2D object at 0x7f35101923d0>\n",
            "8: <keras.layers.convolutional.Conv2D object at 0x7f35101a0f10>\n",
            "9: <keras.layers.convolutional.Conv2D object at 0x7f35101ac190>\n",
            "10: <keras.layers.pooling.MaxPooling2D object at 0x7f35101b1fd0>\n",
            "11: <keras.layers.convolutional.Conv2D object at 0x7f35101a8f50>\n",
            "12: <keras.layers.convolutional.Conv2D object at 0x7f35101b8ad0>\n",
            "13: <keras.layers.convolutional.Conv2D object at 0x7f3510140c10>\n",
            "14: <keras.layers.pooling.MaxPooling2D object at 0x7f35101b8750>\n",
            "15: <keras.layers.convolutional.Conv2D object at 0x7f3510149d90>\n",
            "16: <keras.layers.convolutional.Conv2D object at 0x7f3510150690>\n",
            "17: <keras.layers.convolutional.Conv2D object at 0x7f3510150590>\n",
            "18: <keras.layers.pooling.MaxPooling2D object at 0x7f3510144790>\n",
            "19: <keras.layers.core.flatten.Flatten object at 0x7f351015a5d0>\n",
            "20: <keras.layers.core.dense.Dense object at 0x7f351015a0d0>\n",
            "21: <keras.layers.core.dense.Dense object at 0x7f351015a250>\n",
            "22: <keras.layers.core.dense.Dense object at 0x7f35101a1e90>\n"
          ]
        }
      ]
    },
    {
      "cell_type": "code",
      "metadata": {
        "colab": {
          "base_uri": "https://localhost:8080/"
        },
        "id": "9bC0qyzJK98q",
        "outputId": "99262772-e8ef-4d2c-fe42-f24fb2bb746a"
      },
      "source": [
        "train_datagen=ImageDataGenerator(preprocessing_function=preprocess_input,\n",
        "    validation_split=0.2)\n",
        "\n",
        "train_generator=train_datagen.flow_from_directory('/content/drive/MyDrive/Final year project /Dataset/Segmented',\n",
        "                                                 target_size=(224,224),\n",
        "                                                 batch_size=64,\n",
        "                                                 \n",
        "                                                 class_mode='categorical',\n",
        "                                                 subset='training')\n",
        "\n",
        "\n",
        "validation_generator = train_datagen.flow_from_directory('/content/drive/MyDrive/Final year project /Dataset/Segmented', # same directory as training data\n",
        "                                                target_size=(224,224),\n",
        "                                                batch_size=64,\n",
        "                                                class_mode='categorical',\n",
        "                                                subset='validation') # set as validation data"
      ],
      "execution_count": null,
      "outputs": [
        {
          "output_type": "stream",
          "name": "stdout",
          "text": [
            "Found 9353 images belonging to 4 classes.\n",
            "Found 2337 images belonging to 4 classes.\n"
          ]
        }
      ]
    },
    {
      "cell_type": "code",
      "metadata": {
        "id": "2Se_dkJMLRIi",
        "colab": {
          "base_uri": "https://localhost:8080/"
        },
        "outputId": "3af4d59d-a16d-4726-b42c-b844a2dbae3b"
      },
      "source": [
        "epochs = 10\n",
        "learning_rate = 0.0001\n",
        "decay_rate = learning_rate / epochs\n",
        "opt = Adam(lr=learning_rate, beta_1=0.9, beta_2=0.999, epsilon=None, decay=decay_rate, amsgrad=False)\n",
        "model.compile(optimizer=opt,loss='categorical_crossentropy',metrics=['accuracy'])\n"
      ],
      "execution_count": null,
      "outputs": [
        {
          "output_type": "stream",
          "name": "stderr",
          "text": [
            "/usr/local/lib/python3.7/dist-packages/keras/optimizer_v2/adam.py:105: UserWarning: The `lr` argument is deprecated, use `learning_rate` instead.\n",
            "  super(Adam, self).__init__(name, **kwargs)\n"
          ]
        }
      ]
    },
    {
      "cell_type": "code",
      "metadata": {
        "colab": {
          "base_uri": "https://localhost:8080/"
        },
        "id": "V8KdesxTLajG",
        "outputId": "8b2e2ae6-8adb-452f-96ee-b025c3d3797d"
      },
      "source": [
        "step_size_train = train_generator.n/train_generator.batch_size\n",
        "step_size_val = validation_generator.samples // validation_generator.batch_size\n",
        "\n",
        "history = model.fit_generator(\n",
        "                   generator = train_generator,\n",
        "                   steps_per_epoch = step_size_train,\n",
        "                   validation_data = validation_generator, \n",
        "                   validation_steps = step_size_val,\n",
        "\n",
        "                   epochs=10)\n"
      ],
      "execution_count": null,
      "outputs": [
        {
          "output_type": "stream",
          "name": "stderr",
          "text": [
            "/usr/local/lib/python3.7/dist-packages/ipykernel_launcher.py:10: UserWarning: `Model.fit_generator` is deprecated and will be removed in a future version. Please use `Model.fit`, which supports generators.\n",
            "  # Remove the CWD from sys.path while we load stuff.\n"
          ]
        },
        {
          "output_type": "stream",
          "name": "stdout",
          "text": [
            "Epoch 1/10\n",
            "146/146 [==============================] - 3505s 24s/step - loss: 2.5422 - accuracy: 0.8377 - val_loss: 0.3549 - val_accuracy: 0.8854\n",
            "Epoch 2/10\n",
            "146/146 [==============================] - 63s 431ms/step - loss: 0.1076 - accuracy: 0.9594 - val_loss: 0.2931 - val_accuracy: 0.9115\n",
            "Epoch 3/10\n",
            "146/146 [==============================] - 67s 456ms/step - loss: 0.0496 - accuracy: 0.9811 - val_loss: 0.4257 - val_accuracy: 0.8872\n",
            "Epoch 4/10\n",
            "146/146 [==============================] - 66s 454ms/step - loss: 0.0215 - accuracy: 0.9938 - val_loss: 0.2546 - val_accuracy: 0.9362\n",
            "Epoch 5/10\n",
            "146/146 [==============================] - 67s 456ms/step - loss: 0.0048 - accuracy: 0.9996 - val_loss: 0.2901 - val_accuracy: 0.9332\n",
            "Epoch 6/10\n",
            "146/146 [==============================] - 67s 455ms/step - loss: 0.0019 - accuracy: 0.9999 - val_loss: 0.3180 - val_accuracy: 0.9410\n",
            "Epoch 7/10\n",
            "146/146 [==============================] - 67s 456ms/step - loss: 6.2628e-04 - accuracy: 1.0000 - val_loss: 0.3030 - val_accuracy: 0.9418\n",
            "Epoch 8/10\n",
            "146/146 [==============================] - 67s 455ms/step - loss: 3.6363e-04 - accuracy: 1.0000 - val_loss: 0.3062 - val_accuracy: 0.9414\n",
            "Epoch 9/10\n",
            "146/146 [==============================] - 67s 457ms/step - loss: 2.8418e-04 - accuracy: 1.0000 - val_loss: 0.3110 - val_accuracy: 0.9427\n",
            "Epoch 10/10\n",
            "146/146 [==============================] - 67s 456ms/step - loss: 2.2957e-04 - accuracy: 1.0000 - val_loss: 0.3134 - val_accuracy: 0.9427\n"
          ]
        }
      ]
    },
    {
      "cell_type": "code",
      "source": [
        "model.save('/content/drive/MyDrive/Final year project /Models/lungs_vgg_segmented.h5')"
      ],
      "metadata": {
        "id": "PKoM7S7Mo_BH"
      },
      "execution_count": null,
      "outputs": []
    },
    {
      "cell_type": "code",
      "source": [
        ""
      ],
      "metadata": {
        "id": "_JBQ13e7RFH3"
      },
      "execution_count": null,
      "outputs": []
    },
    {
      "cell_type": "code",
      "metadata": {
        "colab": {
          "base_uri": "https://localhost:8080/",
          "height": 73
        },
        "id": "uJNaoEdiLe4O",
        "outputId": "2d6f5922-2c6c-4663-8870-a6af6ef022a3"
      },
      "source": [
        "import matplotlib.pyplot as plt\n",
        "acc = history.history['accuracy']\n",
        "val_acc = history.history['val_accuracy']\n",
        "loss = history.history['loss']\n",
        "val_loss = history.history['val_loss']\n",
        "\n",
        "epochs = range(len(acc))\n",
        "\n",
        "plt.plot(epochs, acc, 'r', label='Training accuracy')\n",
        "plt.plot(epochs, val_acc, 'b', label='Validation accuracy')\n",
        "plt.title('Training and validation accuracy')\n",
        "plt.legend(loc=0)\n",
        "plt.figure()\n",
        "\n",
        "\n",
        "\n",
        "plt.show()"
      ],
      "execution_count": null,
      "outputs": [
        {
          "output_type": "display_data",
          "data": {
            "text/plain": [
              "<Figure size 432x288 with 1 Axes>"
            ],
            "image/png": "[encoded data removed]"
          },
          "metadata": {
            "needs_background": "light"
          }
        },
        {
          "output_type": "display_data",
          "data": {
            "text/plain": [
              "<Figure size 432x288 with 0 Axes>"
            ]
          },
          "metadata": {}
        }
      ]
    },
    {
      "cell_type": "code",
      "metadata": {
        "colab": {
          "base_uri": "https://localhost:8080/",
          "height": 91
        },
        "id": "6_5gnWtZLrSK",
        "outputId": "7271fb66-5dbd-4e1e-80e6-c866b3880c5d"
      },
      "source": [
        "plt.plot(epochs, loss, 'r', label='Training loss')\n",
        "plt.plot(epochs, val_loss, 'b', label='Validationloss')\n",
        "plt.title('Training and validation loss')\n",
        "plt.legend(loc=0)\n",
        "plt.figure()"
      ],
      "execution_count": null,
      "outputs": [
        {
          "output_type": "execute_result",
          "data": {
            "text/plain": [
              "<Figure size 432x288 with 0 Axes>"
            ]
          },
          "metadata": {},
          "execution_count": 13
        },
        {
          "output_type": "display_data",
          "data": {
            "text/plain": [
              "<Figure size 432x288 with 1 Axes>"
            ],
            "image/png": "[encoded data removed]"
          },
          "metadata": {
            "needs_background": "light"
          }
        },
        {
          "output_type": "display_data",
          "data": {
            "text/plain": [
              "<Figure size 432x288 with 0 Axes>"
            ]
          },
          "metadata": {}
        }
      ]
    },
    {
      "cell_type": "code",
      "metadata": {
        "colab": {
          "base_uri": "https://localhost:8080/",
          "height": 303
        },
        "id": "PZM-bRpMw5zR",
        "outputId": "34833e35-7bbf-416d-e546-2ca3513a886d"
      },
      "source": [
        "import matplotlib.pyplot as plt\n",
        "def get_class_string_from_index(index):\n",
        "   for class_string, class_index in validation_generator.class_indices.items():\n",
        "      if class_index == index:\n",
        "         return class_string\n",
        "\n",
        "x, y = next(validation_generator)\n",
        "image = x[0, :, :, :]\n",
        "true_index = np.argmax(y[0])\n",
        "plt.imshow(image)\n",
        "plt.axis('off')\n",
        "plt.show()\n",
        "\n",
        "# Expand the validation image to (1, 224, 224, 3) before predicting the label\n",
        "prediction_scores = model.predict(np.expand_dims(image, axis=0))\n",
        "predicted_index = np.argmax(prediction_scores)\n",
        "print(\"True label: \" + get_class_string_from_index(true_index))\n",
        "print(\"Predicted label: \" + get_class_string_from_index(predicted_index))"
      ],
      "execution_count": null,
      "outputs": [
        {
          "output_type": "stream",
          "name": "stderr",
          "text": [
            "Clipping input data to the valid range for imshow with RGB data ([0..1] for floats or [0..255] for integers).\n"
          ]
        },
        {
          "output_type": "display_data",
          "data": {
            "text/plain": [
              "<Figure size 432x288 with 1 Axes>"
            ],
            "image/png": "[encoded data removed]"
          },
          "metadata": {
            "needs_background": "light"
          }
        },
        {
          "output_type": "stream",
          "name": "stdout",
          "text": [
            "True label: Tubercolosis\n",
            "Predicted label: Tubercolosis\n"
          ]
        }
      ]
    },
    {
      "cell_type": "markdown",
      "source": [
        ""
      ],
      "metadata": {
        "id": "VYCzbxfVC5QC"
      }
    },
    {
      "cell_type": "code",
      "metadata": {
        "colab": {
          "base_uri": "https://localhost:8080/"
        },
        "id": "_pWLIyLXw7sr",
        "outputId": "38e1c94b-6cdb-4fa8-9a59-c5757bdc115c"
      },
      "source": [
        "import cv2\n",
        "import tensorflow as tf\n",
        "\n",
        "CATEGORIES= ['COVID','NORMAL','PNEUMONIA','TUBERCOLOSIS']\n",
        "def prepare(filepath):\n",
        "    IMG_SIZE=224\n",
        "    img_array=cv2.imread(filepath)\n",
        "    img_array = img_array / 255.0\n",
        "    new_array=cv2.resize(img_array,(IMG_SIZE,IMG_SIZE))\n",
        "    return new_array.reshape(-1,IMG_SIZE,IMG_SIZE,3)\n",
        "\n",
        "\n",
        "prediction = model.predict(prepare('/content/drive/MyDrive/Final year project /Dataset/Segmented/Tubercolosis/Tubercolosis-1.png'))\n",
        "prediction = np.argmax(prediction,-1)\n",
        "print(prediction)\n",
        "print(CATEGORIES[int(prediction[0])])"
      ],
      "execution_count": null,
      "outputs": [
        {
          "output_type": "stream",
          "name": "stdout",
          "text": [
            "[3]\n",
            "tbuer\n"
          ]
        }
      ]
    }
  ]
}