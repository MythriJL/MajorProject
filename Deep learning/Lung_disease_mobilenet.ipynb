{
  "nbformat": 4,
  "nbformat_minor": 0,
  "metadata": {
    "accelerator": "GPU",
    "colab": {
      "name": "Lung_disease_mobilenet.ipynb",
      "provenance": [],
      "collapsed_sections": []
    },
    "kernelspec": {
      "display_name": "Python 3",
      "name": "python3"
    }
  },
  "cells": [
    {
      "cell_type": "markdown",
      "source": [
        "## Transfer Learning using MobileNet for diagnoising pneumonia"
      ],
      "metadata": {
        "id": "Qnx4LShU2MTv"
      }
    },
    {
      "cell_type": "code",
      "metadata": {
        "colab": {
          "base_uri": "https://localhost:8080/"
        },
        "id": "qxAU3e0qBQ2c",
        "outputId": "6ede880b-3780-4df4-ee75-aa77ea3bbec6"
      },
      "source": [
        "from google.colab import drive\n",
        "drive.mount('/content/drive')"
      ],
      "execution_count": null,
      "outputs": [
        {
          "output_type": "stream",
          "name": "stdout",
          "text": [
            "Mounted at /content/drive\n"
          ]
        }
      ]
    },
    {
      "cell_type": "code",
      "metadata": {
        "id": "1Po-OUMQBntJ"
      },
      "source": [
        "#import needed packages\n",
        "import cv2\n",
        "import numpy as np\n",
        "import tensorflow as tf\n",
        "import keras\n",
        "from keras import backend as K\n",
        "from tensorflow.keras.optimizers import Adam\n",
        "from keras.metrics import categorical_crossentropy\n",
        "from keras.preprocessing.image import ImageDataGenerator\n",
        "from keras.models import Model\n",
        "from keras.layers import Dense,GlobalAveragePooling2D,Dropout,SeparableConv2D,BatchNormalization, Activation, Dense\n",
        "from keras.applications.mobilenet import MobileNet\n"
      ],
      "execution_count": null,
      "outputs": []
    },
    {
      "cell_type": "code",
      "metadata": {
        "colab": {
          "base_uri": "https://localhost:8080/"
        },
        "id": "_c_PQ3xYBr6G",
        "outputId": "b01550e2-3848-4ff5-e4cc-4e34b2ab47ee"
      },
      "source": [
        "num_class = 4\n",
        "\n",
        "# Base model without Fully connected Layers\n",
        "base_model = MobileNet(include_top=False, weights='imagenet', input_shape=(224,224,3))\n",
        "x=base_model.output\n",
        "# Add some new Fully connected layers to \n",
        "x=GlobalAveragePooling2D()(x)\n",
        "x=Dense(1024,activation='relu')(x)\n",
        "x = Dropout(0.25)(x)\n",
        "x=Dense(512,activation='relu')(x) \n",
        "x = Dropout(0.25)(x)\n",
        "preds=Dense(num_class, activation='softmax')(x) #final layer with softmax activation\n",
        "\n",
        "model=Model(inputs=base_model.input,outputs=preds)"
      ],
      "execution_count": null,
      "outputs": [
        {
          "output_type": "stream",
          "name": "stdout",
          "text": [
            "Downloading data from https://storage.googleapis.com/tensorflow/keras-applications/mobilenet/mobilenet_1_0_224_tf_no_top.h5\n",
            "17227776/17225924 [==============================] - 0s 0us/step\n",
            "17235968/17225924 [==============================] - 0s 0us/step\n"
          ]
        }
      ]
    },
    {
      "cell_type": "code",
      "metadata": {
        "colab": {
          "base_uri": "https://localhost:8080/"
        },
        "id": "zH_imKfSB1vK",
        "outputId": "112526af-8ecc-4c2a-c025-7e1c638c6af6"
      },
      "source": [
        "model.summary()"
      ],
      "execution_count": null,
      "outputs": [
        {
          "output_type": "stream",
          "name": "stdout",
          "text": [
            "Model: \"model\"\n",
            "_________________________________________________________________\n",
            " Layer (type)                Output Shape              Param #   \n",
            "=================================================================\n",
            " input_1 (InputLayer)        [(None, 224, 224, 3)]     0         \n",
            "                                                                 \n",
            " conv1 (Conv2D)              (None, 112, 112, 32)      864       \n",
            "                                                                 \n",
            " conv1_bn (BatchNormalizatio  (None, 112, 112, 32)     128       \n",
            " n)                                                              \n",
            "                                                                 \n",
            " conv1_relu (ReLU)           (None, 112, 112, 32)      0         \n",
            "                                                                 \n",
            " conv_dw_1 (DepthwiseConv2D)  (None, 112, 112, 32)     288       \n",
            "                                                                 \n",
            " conv_dw_1_bn (BatchNormaliz  (None, 112, 112, 32)     128       \n",
            " ation)                                                          \n",
            "                                                                 \n",
            " conv_dw_1_relu (ReLU)       (None, 112, 112, 32)      0         \n",
            "                                                                 \n",
            " conv_pw_1 (Conv2D)          (None, 112, 112, 64)      2048      \n",
            "                                                                 \n",
            " conv_pw_1_bn (BatchNormaliz  (None, 112, 112, 64)     256       \n",
            " ation)                                                          \n",
            "                                                                 \n",
            " conv_pw_1_relu (ReLU)       (None, 112, 112, 64)      0         \n",
            "                                                                 \n",
            " conv_pad_2 (ZeroPadding2D)  (None, 113, 113, 64)      0         \n",
            "                                                                 \n",
            " conv_dw_2 (DepthwiseConv2D)  (None, 56, 56, 64)       576       \n",
            "                                                                 \n",
            " conv_dw_2_bn (BatchNormaliz  (None, 56, 56, 64)       256       \n",
            " ation)                                                          \n",
            "                                                                 \n",
            " conv_dw_2_relu (ReLU)       (None, 56, 56, 64)        0         \n",
            "                                                                 \n",
            " conv_pw_2 (Conv2D)          (None, 56, 56, 128)       8192      \n",
            "                                                                 \n",
            " conv_pw_2_bn (BatchNormaliz  (None, 56, 56, 128)      512       \n",
            " ation)                                                          \n",
            "                                                                 \n",
            " conv_pw_2_relu (ReLU)       (None, 56, 56, 128)       0         \n",
            "                                                                 \n",
            " conv_dw_3 (DepthwiseConv2D)  (None, 56, 56, 128)      1152      \n",
            "                                                                 \n",
            " conv_dw_3_bn (BatchNormaliz  (None, 56, 56, 128)      512       \n",
            " ation)                                                          \n",
            "                                                                 \n",
            " conv_dw_3_relu (ReLU)       (None, 56, 56, 128)       0         \n",
            "                                                                 \n",
            " conv_pw_3 (Conv2D)          (None, 56, 56, 128)       16384     \n",
            "                                                                 \n",
            " conv_pw_3_bn (BatchNormaliz  (None, 56, 56, 128)      512       \n",
            " ation)                                                          \n",
            "                                                                 \n",
            " conv_pw_3_relu (ReLU)       (None, 56, 56, 128)       0         \n",
            "                                                                 \n",
            " conv_pad_4 (ZeroPadding2D)  (None, 57, 57, 128)       0         \n",
            "                                                                 \n",
            " conv_dw_4 (DepthwiseConv2D)  (None, 28, 28, 128)      1152      \n",
            "                                                                 \n",
            " conv_dw_4_bn (BatchNormaliz  (None, 28, 28, 128)      512       \n",
            " ation)                                                          \n",
            "                                                                 \n",
            " conv_dw_4_relu (ReLU)       (None, 28, 28, 128)       0         \n",
            "                                                                 \n",
            " conv_pw_4 (Conv2D)          (None, 28, 28, 256)       32768     \n",
            "                                                                 \n",
            " conv_pw_4_bn (BatchNormaliz  (None, 28, 28, 256)      1024      \n",
            " ation)                                                          \n",
            "                                                                 \n",
            " conv_pw_4_relu (ReLU)       (None, 28, 28, 256)       0         \n",
            "                                                                 \n",
            " conv_dw_5 (DepthwiseConv2D)  (None, 28, 28, 256)      2304      \n",
            "                                                                 \n",
            " conv_dw_5_bn (BatchNormaliz  (None, 28, 28, 256)      1024      \n",
            " ation)                                                          \n",
            "                                                                 \n",
            " conv_dw_5_relu (ReLU)       (None, 28, 28, 256)       0         \n",
            "                                                                 \n",
            " conv_pw_5 (Conv2D)          (None, 28, 28, 256)       65536     \n",
            "                                                                 \n",
            " conv_pw_5_bn (BatchNormaliz  (None, 28, 28, 256)      1024      \n",
            " ation)                                                          \n",
            "                                                                 \n",
            " conv_pw_5_relu (ReLU)       (None, 28, 28, 256)       0         \n",
            "                                                                 \n",
            " conv_pad_6 (ZeroPadding2D)  (None, 29, 29, 256)       0         \n",
            "                                                                 \n",
            " conv_dw_6 (DepthwiseConv2D)  (None, 14, 14, 256)      2304      \n",
            "                                                                 \n",
            " conv_dw_6_bn (BatchNormaliz  (None, 14, 14, 256)      1024      \n",
            " ation)                                                          \n",
            "                                                                 \n",
            " conv_dw_6_relu (ReLU)       (None, 14, 14, 256)       0         \n",
            "                                                                 \n",
            " conv_pw_6 (Conv2D)          (None, 14, 14, 512)       131072    \n",
            "                                                                 \n",
            " conv_pw_6_bn (BatchNormaliz  (None, 14, 14, 512)      2048      \n",
            " ation)                                                          \n",
            "                                                                 \n",
            " conv_pw_6_relu (ReLU)       (None, 14, 14, 512)       0         \n",
            "                                                                 \n",
            " conv_dw_7 (DepthwiseConv2D)  (None, 14, 14, 512)      4608      \n",
            "                                                                 \n",
            " conv_dw_7_bn (BatchNormaliz  (None, 14, 14, 512)      2048      \n",
            " ation)                                                          \n",
            "                                                                 \n",
            " conv_dw_7_relu (ReLU)       (None, 14, 14, 512)       0         \n",
            "                                                                 \n",
            " conv_pw_7 (Conv2D)          (None, 14, 14, 512)       262144    \n",
            "                                                                 \n",
            " conv_pw_7_bn (BatchNormaliz  (None, 14, 14, 512)      2048      \n",
            " ation)                                                          \n",
            "                                                                 \n",
            " conv_pw_7_relu (ReLU)       (None, 14, 14, 512)       0         \n",
            "                                                                 \n",
            " conv_dw_8 (DepthwiseConv2D)  (None, 14, 14, 512)      4608      \n",
            "                                                                 \n",
            " conv_dw_8_bn (BatchNormaliz  (None, 14, 14, 512)      2048      \n",
            " ation)                                                          \n",
            "                                                                 \n",
            " conv_dw_8_relu (ReLU)       (None, 14, 14, 512)       0         \n",
            "                                                                 \n",
            " conv_pw_8 (Conv2D)          (None, 14, 14, 512)       262144    \n",
            "                                                                 \n",
            " conv_pw_8_bn (BatchNormaliz  (None, 14, 14, 512)      2048      \n",
            " ation)                                                          \n",
            "                                                                 \n",
            " conv_pw_8_relu (ReLU)       (None, 14, 14, 512)       0         \n",
            "                                                                 \n",
            " conv_dw_9 (DepthwiseConv2D)  (None, 14, 14, 512)      4608      \n",
            "                                                                 \n",
            " conv_dw_9_bn (BatchNormaliz  (None, 14, 14, 512)      2048      \n",
            " ation)                                                          \n",
            "                                                                 \n",
            " conv_dw_9_relu (ReLU)       (None, 14, 14, 512)       0         \n",
            "                                                                 \n",
            " conv_pw_9 (Conv2D)          (None, 14, 14, 512)       262144    \n",
            "                                                                 \n",
            " conv_pw_9_bn (BatchNormaliz  (None, 14, 14, 512)      2048      \n",
            " ation)                                                          \n",
            "                                                                 \n",
            " conv_pw_9_relu (ReLU)       (None, 14, 14, 512)       0         \n",
            "                                                                 \n",
            " conv_dw_10 (DepthwiseConv2D  (None, 14, 14, 512)      4608      \n",
            " )                                                               \n",
            "                                                                 \n",
            " conv_dw_10_bn (BatchNormali  (None, 14, 14, 512)      2048      \n",
            " zation)                                                         \n",
            "                                                                 \n",
            " conv_dw_10_relu (ReLU)      (None, 14, 14, 512)       0         \n",
            "                                                                 \n",
            " conv_pw_10 (Conv2D)         (None, 14, 14, 512)       262144    \n",
            "                                                                 \n",
            " conv_pw_10_bn (BatchNormali  (None, 14, 14, 512)      2048      \n",
            " zation)                                                         \n",
            "                                                                 \n",
            " conv_pw_10_relu (ReLU)      (None, 14, 14, 512)       0         \n",
            "                                                                 \n",
            " conv_dw_11 (DepthwiseConv2D  (None, 14, 14, 512)      4608      \n",
            " )                                                               \n",
            "                                                                 \n",
            " conv_dw_11_bn (BatchNormali  (None, 14, 14, 512)      2048      \n",
            " zation)                                                         \n",
            "                                                                 \n",
            " conv_dw_11_relu (ReLU)      (None, 14, 14, 512)       0         \n",
            "                                                                 \n",
            " conv_pw_11 (Conv2D)         (None, 14, 14, 512)       262144    \n",
            "                                                                 \n",
            " conv_pw_11_bn (BatchNormali  (None, 14, 14, 512)      2048      \n",
            " zation)                                                         \n",
            "                                                                 \n",
            " conv_pw_11_relu (ReLU)      (None, 14, 14, 512)       0         \n",
            "                                                                 \n",
            " conv_pad_12 (ZeroPadding2D)  (None, 15, 15, 512)      0         \n",
            "                                                                 \n",
            " conv_dw_12 (DepthwiseConv2D  (None, 7, 7, 512)        4608      \n",
            " )                                                               \n",
            "                                                                 \n",
            " conv_dw_12_bn (BatchNormali  (None, 7, 7, 512)        2048      \n",
            " zation)                                                         \n",
            "                                                                 \n",
            " conv_dw_12_relu (ReLU)      (None, 7, 7, 512)         0         \n",
            "                                                                 \n",
            " conv_pw_12 (Conv2D)         (None, 7, 7, 1024)        524288    \n",
            "                                                                 \n",
            " conv_pw_12_bn (BatchNormali  (None, 7, 7, 1024)       4096      \n",
            " zation)                                                         \n",
            "                                                                 \n",
            " conv_pw_12_relu (ReLU)      (None, 7, 7, 1024)        0         \n",
            "                                                                 \n",
            " conv_dw_13 (DepthwiseConv2D  (None, 7, 7, 1024)       9216      \n",
            " )                                                               \n",
            "                                                                 \n",
            " conv_dw_13_bn (BatchNormali  (None, 7, 7, 1024)       4096      \n",
            " zation)                                                         \n",
            "                                                                 \n",
            " conv_dw_13_relu (ReLU)      (None, 7, 7, 1024)        0         \n",
            "                                                                 \n",
            " conv_pw_13 (Conv2D)         (None, 7, 7, 1024)        1048576   \n",
            "                                                                 \n",
            " conv_pw_13_bn (BatchNormali  (None, 7, 7, 1024)       4096      \n",
            " zation)                                                         \n",
            "                                                                 \n",
            " conv_pw_13_relu (ReLU)      (None, 7, 7, 1024)        0         \n",
            "                                                                 \n",
            " global_average_pooling2d (G  (None, 1024)             0         \n",
            " lobalAveragePooling2D)                                          \n",
            "                                                                 \n",
            " dense (Dense)               (None, 1024)              1049600   \n",
            "                                                                 \n",
            " dropout (Dropout)           (None, 1024)              0         \n",
            "                                                                 \n",
            " dense_1 (Dense)             (None, 512)               524800    \n",
            "                                                                 \n",
            " dropout_1 (Dropout)         (None, 512)               0         \n",
            "                                                                 \n",
            " dense_2 (Dense)             (None, 4)                 2052      \n",
            "                                                                 \n",
            "=================================================================\n",
            "Total params: 4,805,316\n",
            "Trainable params: 4,783,428\n",
            "Non-trainable params: 21,888\n",
            "_________________________________________________________________\n"
          ]
        }
      ]
    },
    {
      "cell_type": "code",
      "metadata": {
        "colab": {
          "base_uri": "https://localhost:8080/"
        },
        "id": "hJnT6hfoB7Ob",
        "outputId": "3a32687d-4289-4a29-9357-12ddeb81d16e"
      },
      "source": [
        "for i,layer in enumerate(model.layers):\n",
        "  print(\"{}: {}\".format(i,layer))"
      ],
      "execution_count": null,
      "outputs": [
        {
          "output_type": "stream",
          "name": "stdout",
          "text": [
            "0: <keras.engine.input_layer.InputLayer object at 0x7f4c83d28ed0>\n",
            "1: <keras.layers.convolutional.Conv2D object at 0x7f4c7cc10490>\n",
            "2: <keras.layers.normalization.batch_normalization.BatchNormalization object at 0x7f4c7b9e9150>\n",
            "3: <keras.layers.advanced_activations.ReLU object at 0x7f4c7b9570d0>\n",
            "4: <keras.layers.convolutional.DepthwiseConv2D object at 0x7f4c7b957810>\n",
            "5: <keras.layers.normalization.batch_normalization.BatchNormalization object at 0x7f4c705fd810>\n",
            "6: <keras.layers.advanced_activations.ReLU object at 0x7f4c7b977d10>\n",
            "7: <keras.layers.convolutional.Conv2D object at 0x7f4c7058d6d0>\n",
            "8: <keras.layers.normalization.batch_normalization.BatchNormalization object at 0x7f4c7059d9d0>\n",
            "9: <keras.layers.advanced_activations.ReLU object at 0x7f4c70596f50>\n",
            "10: <keras.layers.convolutional.ZeroPadding2D object at 0x7f4c70596150>\n",
            "11: <keras.layers.convolutional.DepthwiseConv2D object at 0x7f4c705abb50>\n",
            "12: <keras.layers.normalization.batch_normalization.BatchNormalization object at 0x7f4c705b1650>\n",
            "13: <keras.layers.advanced_activations.ReLU object at 0x7f4c705a5990>\n",
            "14: <keras.layers.convolutional.Conv2D object at 0x7f4c705b56d0>\n",
            "15: <keras.layers.normalization.batch_normalization.BatchNormalization object at 0x7f4c70544650>\n",
            "16: <keras.layers.advanced_activations.ReLU object at 0x7f4c705be610>\n",
            "17: <keras.layers.convolutional.DepthwiseConv2D object at 0x7f4c7b957150>\n",
            "18: <keras.layers.normalization.batch_normalization.BatchNormalization object at 0x7f4c705536d0>\n",
            "19: <keras.layers.advanced_activations.ReLU object at 0x7f4c705bae50>\n",
            "20: <keras.layers.convolutional.Conv2D object at 0x7f4c705be450>\n",
            "21: <keras.layers.normalization.batch_normalization.BatchNormalization object at 0x7f4c7055ef10>\n",
            "22: <keras.layers.advanced_activations.ReLU object at 0x7f4c705641d0>\n",
            "23: <keras.layers.convolutional.ZeroPadding2D object at 0x7f4c70568ad0>\n",
            "24: <keras.layers.convolutional.DepthwiseConv2D object at 0x7f4c7056f4d0>\n",
            "25: <keras.layers.normalization.batch_normalization.BatchNormalization object at 0x7f4c70572d10>\n",
            "26: <keras.layers.advanced_activations.ReLU object at 0x7f4c70572450>\n",
            "27: <keras.layers.convolutional.Conv2D object at 0x7f4c7057c950>\n",
            "28: <keras.layers.normalization.batch_normalization.BatchNormalization object at 0x7f4c7050a210>\n",
            "29: <keras.layers.advanced_activations.ReLU object at 0x7f4c70504550>\n",
            "30: <keras.layers.convolutional.DepthwiseConv2D object at 0x7f4c70580dd0>\n",
            "31: <keras.layers.normalization.batch_normalization.BatchNormalization object at 0x7f4c7051a850>\n",
            "32: <keras.layers.advanced_activations.ReLU object at 0x7f4c7051e950>\n",
            "33: <keras.layers.convolutional.Conv2D object at 0x7f4c7f5a4cd0>\n",
            "34: <keras.layers.normalization.batch_normalization.BatchNormalization object at 0x7f4c705256d0>\n",
            "35: <keras.layers.advanced_activations.ReLU object at 0x7f4c7052b650>\n",
            "36: <keras.layers.convolutional.ZeroPadding2D object at 0x7f4c705252d0>\n",
            "37: <keras.layers.convolutional.DepthwiseConv2D object at 0x7f4c70535e90>\n",
            "38: <keras.layers.normalization.batch_normalization.BatchNormalization object at 0x7f4c7053f450>\n",
            "39: <keras.layers.advanced_activations.ReLU object at 0x7f4c704c4d90>\n",
            "40: <keras.layers.convolutional.Conv2D object at 0x7f4c704c8450>\n",
            "41: <keras.layers.normalization.batch_normalization.BatchNormalization object at 0x7f4c704cba50>\n",
            "42: <keras.layers.advanced_activations.ReLU object at 0x7f4c704d1ed0>\n",
            "43: <keras.layers.convolutional.DepthwiseConv2D object at 0x7f4c704d4f90>\n",
            "44: <keras.layers.normalization.batch_normalization.BatchNormalization object at 0x7f4c705354d0>\n",
            "45: <keras.layers.advanced_activations.ReLU object at 0x7f4c7050fa10>\n",
            "46: <keras.layers.convolutional.Conv2D object at 0x7f4c7051ec10>\n",
            "47: <keras.layers.normalization.batch_normalization.BatchNormalization object at 0x7f4c7055ec10>\n",
            "48: <keras.layers.advanced_activations.ReLU object at 0x7f4c70556850>\n",
            "49: <keras.layers.convolutional.DepthwiseConv2D object at 0x7f4c705538d0>\n",
            "50: <keras.layers.normalization.batch_normalization.BatchNormalization object at 0x7f4c7059dd50>\n",
            "51: <keras.layers.advanced_activations.ReLU object at 0x7f4c704de1d0>\n",
            "52: <keras.layers.convolutional.Conv2D object at 0x7f4c704dad50>\n",
            "53: <keras.layers.normalization.batch_normalization.BatchNormalization object at 0x7f4c704e0690>\n",
            "54: <keras.layers.advanced_activations.ReLU object at 0x7f4c704e4610>\n",
            "55: <keras.layers.convolutional.DepthwiseConv2D object at 0x7f4c704e5250>\n",
            "56: <keras.layers.normalization.batch_normalization.BatchNormalization object at 0x7f4c704df310>\n",
            "57: <keras.layers.advanced_activations.ReLU object at 0x7f4c704f4cd0>\n",
            "58: <keras.layers.convolutional.Conv2D object at 0x7f4c704fe4d0>\n",
            "59: <keras.layers.normalization.batch_normalization.BatchNormalization object at 0x7f4c704e5e50>\n",
            "60: <keras.layers.advanced_activations.ReLU object at 0x7f4c70488350>\n",
            "61: <keras.layers.convolutional.DepthwiseConv2D object at 0x7f4c704890d0>\n",
            "62: <keras.layers.normalization.batch_normalization.BatchNormalization object at 0x7f4c70498d50>\n",
            "63: <keras.layers.advanced_activations.ReLU object at 0x7f4c7049cf10>\n",
            "64: <keras.layers.convolutional.Conv2D object at 0x7f4c7049f590>\n",
            "65: <keras.layers.normalization.batch_normalization.BatchNormalization object at 0x7f4c704aa810>\n",
            "66: <keras.layers.advanced_activations.ReLU object at 0x7f4c704b0790>\n",
            "67: <keras.layers.convolutional.DepthwiseConv2D object at 0x7f4c704b6350>\n",
            "68: <keras.layers.normalization.batch_normalization.BatchNormalization object at 0x7f4c704bfed0>\n",
            "69: <keras.layers.advanced_activations.ReLU object at 0x7f4c70442f90>\n",
            "70: <keras.layers.convolutional.Conv2D object at 0x7f4c70448650>\n",
            "71: <keras.layers.normalization.batch_normalization.BatchNormalization object at 0x7f4c704b9290>\n",
            "72: <keras.layers.advanced_activations.ReLU object at 0x7f4c70458ed0>\n",
            "73: <keras.layers.convolutional.ZeroPadding2D object at 0x7f4c70462790>\n",
            "74: <keras.layers.convolutional.DepthwiseConv2D object at 0x7f4c70465c90>\n",
            "75: <keras.layers.normalization.batch_normalization.BatchNormalization object at 0x7f4c704746d0>\n",
            "76: <keras.layers.advanced_activations.ReLU object at 0x7f4c70470510>\n",
            "77: <keras.layers.convolutional.Conv2D object at 0x7f4c70465cd0>\n",
            "78: <keras.layers.normalization.batch_normalization.BatchNormalization object at 0x7f4c70411990>\n",
            "79: <keras.layers.advanced_activations.ReLU object at 0x7f4c704426d0>\n",
            "80: <keras.layers.convolutional.DepthwiseConv2D object at 0x7f4c7040a450>\n",
            "81: <keras.layers.normalization.batch_normalization.BatchNormalization object at 0x7f4c7049c350>\n",
            "82: <keras.layers.advanced_activations.ReLU object at 0x7f4c704481d0>\n",
            "83: <keras.layers.convolutional.Conv2D object at 0x7f4c704b9b90>\n",
            "84: <keras.layers.normalization.batch_normalization.BatchNormalization object at 0x7f4c704e0190>\n",
            "85: <keras.layers.advanced_activations.ReLU object at 0x7f4c704da750>\n",
            "86: <keras.layers.pooling.GlobalAveragePooling2D object at 0x7f4c70535390>\n",
            "87: <keras.layers.core.dense.Dense object at 0x7f4c7c276210>\n",
            "88: <keras.layers.core.dropout.Dropout object at 0x7f4c70448150>\n",
            "89: <keras.layers.core.dense.Dense object at 0x7f4c70190510>\n",
            "90: <keras.layers.core.dropout.Dropout object at 0x7f4c701902d0>\n",
            "91: <keras.layers.core.dense.Dense object at 0x7f4c7018d890>\n"
          ]
        }
      ]
    },
    {
      "cell_type": "code",
      "metadata": {
        "id": "GmCLNHFyB_Rr"
      },
      "source": [
        "for layer in model.layers[:87]:\n",
        "    layer.trainable=False\n",
        "for layer in model.layers[87:]:\n",
        "    layer.trainable=True"
      ],
      "execution_count": null,
      "outputs": []
    },
    {
      "cell_type": "code",
      "metadata": {
        "colab": {
          "base_uri": "https://localhost:8080/"
        },
        "id": "tKrS3CP-CDTF",
        "outputId": "53f71978-1409-45dc-a116-78b49eb7c197"
      },
      "source": [
        "train_datagen=ImageDataGenerator(preprocessing_function=keras.applications.mobilenet.preprocess_input,\n",
        "                                 validation_split=0.2)\n",
        "\n",
        "train_generator=train_datagen.flow_from_directory('/content/drive/MyDrive/Final year project /Dataset/Original',\n",
        "                                                 target_size=(224,224),\n",
        "                                                 batch_size=64,\n",
        "                                                 class_mode='categorical',\n",
        "                                                 subset='training')\n",
        "\n",
        "\n",
        "validation_generator = train_datagen.flow_from_directory('/content/drive/MyDrive/Final year project /Dataset/Original', # same directory as training data\n",
        "                                                target_size=(224,224),\n",
        "                                                batch_size=64,\n",
        "                                                class_mode='categorical',\n",
        "                                                subset='validation') # set as validation data"
      ],
      "execution_count": null,
      "outputs": [
        {
          "output_type": "stream",
          "name": "stdout",
          "text": [
            "Found 9370 images belonging to 4 classes.\n",
            "Found 2341 images belonging to 4 classes.\n"
          ]
        }
      ]
    },
    {
      "cell_type": "code",
      "metadata": {
        "id": "FmO3v8HTCZZI",
        "colab": {
          "base_uri": "https://localhost:8080/"
        },
        "outputId": "8b735288-e97b-40d0-eb35-94ae922a0fef"
      },
      "source": [
        "epochs = 20\n",
        "learning_rate = 0.0001\n",
        "decay_rate = learning_rate / epochs\n",
        "opt = Adam(lr=learning_rate, beta_1=0.9, beta_2=0.999, epsilon=None, decay=decay_rate, amsgrad=False)\n",
        "model.compile(optimizer=opt,loss='categorical_crossentropy',metrics=['accuracy'])"
      ],
      "execution_count": null,
      "outputs": [
        {
          "output_type": "stream",
          "name": "stderr",
          "text": [
            "/usr/local/lib/python3.7/dist-packages/keras/optimizer_v2/adam.py:105: UserWarning: The `lr` argument is deprecated, use `learning_rate` instead.\n",
            "  super(Adam, self).__init__(name, **kwargs)\n"
          ]
        }
      ]
    },
    {
      "cell_type": "code",
      "metadata": {
        "id": "7khLzW2BChWc"
      },
      "source": [
        "from keras.callbacks import ModelCheckpoint\n",
        "from keras.callbacks import TensorBoard\n",
        "\n",
        "!mkdir ckpt\n",
        "!mkdir logs\n",
        "\n",
        "filepath=\"ckpt/best.hdf5\"\n",
        "checkpoint = ModelCheckpoint(filepath, monitor='val_loss', verbose=1, save_weights_only = False, save_best_only=True, mode='min')\n",
        "logdir=\"logs/mobilenet\"\n",
        "tfboard = TensorBoard(log_dir=logdir)\n",
        "\n",
        "callbacks_list = [checkpoint, tfboard]"
      ],
      "execution_count": null,
      "outputs": []
    },
    {
      "cell_type": "code",
      "metadata": {
        "colab": {
          "base_uri": "https://localhost:8080/"
        },
        "id": "5uMx31rlCll0",
        "outputId": "6b2491ef-09be-4c5a-b770-92bf3544420e"
      },
      "source": [
        "step_size_train = train_generator.n/train_generator.batch_size\n",
        "step_size_val = validation_generator.samples // validation_generator.batch_size\n",
        "history = model.fit_generator(generator=train_generator,\n",
        "                   steps_per_epoch=step_size_train,\n",
        "                   validation_data = validation_generator, \n",
        "                   validation_steps =step_size_val,\n",
        "                   callbacks = callbacks_list,\n",
        "                   epochs=20)\n"
      ],
      "execution_count": null,
      "outputs": [
        {
          "output_type": "stream",
          "name": "stderr",
          "text": [
            "/usr/local/lib/python3.7/dist-packages/ipykernel_launcher.py:8: UserWarning: `Model.fit_generator` is deprecated and will be removed in a future version. Please use `Model.fit`, which supports generators.\n",
            "  \n"
          ]
        },
        {
          "output_type": "stream",
          "name": "stdout",
          "text": [
            "Epoch 1/20\n",
            "147/146 [==============================] - ETA: -7s - loss: 0.3228 - accuracy: 0.8767\n",
            "Epoch 1: val_loss improved from inf to 0.13088, saving model to ckpt/best.hdf5\n",
            "146/146 [==============================] - 2352s 16s/step - loss: 0.3228 - accuracy: 0.8767 - val_loss: 0.1309 - val_accuracy: 0.9605\n",
            "Epoch 2/20\n",
            "147/146 [==============================] - ETA: 0s - loss: 0.1120 - accuracy: 0.9633\n",
            "Epoch 2: val_loss improved from 0.13088 to 0.08871, saving model to ckpt/best.hdf5\n",
            "146/146 [==============================] - 88s 599ms/step - loss: 0.1120 - accuracy: 0.9633 - val_loss: 0.0887 - val_accuracy: 0.9718\n",
            "Epoch 3/20\n",
            "147/146 [==============================] - ETA: 0s - loss: 0.0732 - accuracy: 0.9752\n",
            "Epoch 3: val_loss improved from 0.08871 to 0.07695, saving model to ckpt/best.hdf5\n",
            "146/146 [==============================] - 91s 624ms/step - loss: 0.0732 - accuracy: 0.9752 - val_loss: 0.0770 - val_accuracy: 0.9748\n",
            "Epoch 4/20\n",
            "147/146 [==============================] - ETA: 0s - loss: 0.0592 - accuracy: 0.9796\n",
            "Epoch 4: val_loss improved from 0.07695 to 0.07198, saving model to ckpt/best.hdf5\n",
            "146/146 [==============================] - 88s 601ms/step - loss: 0.0592 - accuracy: 0.9796 - val_loss: 0.0720 - val_accuracy: 0.9770\n",
            "Epoch 5/20\n",
            "147/146 [==============================] - ETA: 0s - loss: 0.0385 - accuracy: 0.9880\n",
            "Epoch 5: val_loss improved from 0.07198 to 0.06629, saving model to ckpt/best.hdf5\n",
            "146/146 [==============================] - 93s 634ms/step - loss: 0.0385 - accuracy: 0.9880 - val_loss: 0.0663 - val_accuracy: 0.9761\n",
            "Epoch 6/20\n",
            "147/146 [==============================] - ETA: 0s - loss: 0.0360 - accuracy: 0.9874\n",
            "Epoch 6: val_loss improved from 0.06629 to 0.06363, saving model to ckpt/best.hdf5\n",
            "146/146 [==============================] - 89s 605ms/step - loss: 0.0360 - accuracy: 0.9874 - val_loss: 0.0636 - val_accuracy: 0.9800\n",
            "Epoch 7/20\n",
            "147/146 [==============================] - ETA: 0s - loss: 0.0255 - accuracy: 0.9920\n",
            "Epoch 7: val_loss improved from 0.06363 to 0.05799, saving model to ckpt/best.hdf5\n",
            "146/146 [==============================] - 90s 614ms/step - loss: 0.0255 - accuracy: 0.9920 - val_loss: 0.0580 - val_accuracy: 0.9787\n",
            "Epoch 8/20\n",
            "147/146 [==============================] - ETA: 0s - loss: 0.0234 - accuracy: 0.9924\n",
            "Epoch 8: val_loss did not improve from 0.05799\n",
            "146/146 [==============================] - 93s 633ms/step - loss: 0.0234 - accuracy: 0.9924 - val_loss: 0.0701 - val_accuracy: 0.9766\n",
            "Epoch 9/20\n",
            "147/146 [==============================] - ETA: 0s - loss: 0.0171 - accuracy: 0.9948\n",
            "Epoch 9: val_loss did not improve from 0.05799\n",
            "146/146 [==============================] - 90s 617ms/step - loss: 0.0171 - accuracy: 0.9948 - val_loss: 0.0642 - val_accuracy: 0.9796\n",
            "Epoch 10/20\n",
            "147/146 [==============================] - ETA: 0s - loss: 0.0169 - accuracy: 0.9946\n",
            "Epoch 10: val_loss did not improve from 0.05799\n",
            "146/146 [==============================] - 90s 612ms/step - loss: 0.0169 - accuracy: 0.9946 - val_loss: 0.0608 - val_accuracy: 0.9800\n",
            "Epoch 11/20\n",
            "147/146 [==============================] - ETA: 0s - loss: 0.0144 - accuracy: 0.9958\n",
            "Epoch 11: val_loss improved from 0.05799 to 0.05653, saving model to ckpt/best.hdf5\n",
            "146/146 [==============================] - 93s 633ms/step - loss: 0.0144 - accuracy: 0.9958 - val_loss: 0.0565 - val_accuracy: 0.9818\n",
            "Epoch 12/20\n",
            "147/146 [==============================] - ETA: 0s - loss: 0.0112 - accuracy: 0.9967\n",
            "Epoch 12: val_loss did not improve from 0.05653\n",
            "146/146 [==============================] - 90s 618ms/step - loss: 0.0112 - accuracy: 0.9967 - val_loss: 0.0605 - val_accuracy: 0.9826\n",
            "Epoch 13/20\n",
            "147/146 [==============================] - ETA: 0s - loss: 0.0092 - accuracy: 0.9978\n",
            "Epoch 13: val_loss did not improve from 0.05653\n",
            "146/146 [==============================] - 90s 618ms/step - loss: 0.0092 - accuracy: 0.9978 - val_loss: 0.0597 - val_accuracy: 0.9826\n",
            "Epoch 14/20\n",
            "147/146 [==============================] - ETA: 0s - loss: 0.0060 - accuracy: 0.9988\n",
            "Epoch 14: val_loss did not improve from 0.05653\n",
            "146/146 [==============================] - 89s 611ms/step - loss: 0.0060 - accuracy: 0.9988 - val_loss: 0.0576 - val_accuracy: 0.9818\n",
            "Epoch 15/20\n",
            "147/146 [==============================] - ETA: 0s - loss: 0.0052 - accuracy: 0.9986\n",
            "Epoch 15: val_loss did not improve from 0.05653\n",
            "146/146 [==============================] - 90s 615ms/step - loss: 0.0052 - accuracy: 0.9986 - val_loss: 0.0578 - val_accuracy: 0.9818\n",
            "Epoch 16/20\n",
            "147/146 [==============================] - ETA: 0s - loss: 0.0063 - accuracy: 0.9982\n",
            "Epoch 16: val_loss did not improve from 0.05653\n",
            "146/146 [==============================] - 90s 614ms/step - loss: 0.0063 - accuracy: 0.9982 - val_loss: 0.0713 - val_accuracy: 0.9783\n",
            "Epoch 17/20\n",
            "147/146 [==============================] - ETA: 0s - loss: 0.0064 - accuracy: 0.9983\n",
            "Epoch 17: val_loss did not improve from 0.05653\n",
            "146/146 [==============================] - 90s 618ms/step - loss: 0.0064 - accuracy: 0.9983 - val_loss: 0.0606 - val_accuracy: 0.9809\n",
            "Epoch 18/20\n",
            "147/146 [==============================] - ETA: 0s - loss: 0.0035 - accuracy: 0.9993\n",
            "Epoch 18: val_loss did not improve from 0.05653\n",
            "146/146 [==============================] - 90s 612ms/step - loss: 0.0035 - accuracy: 0.9993 - val_loss: 0.0574 - val_accuracy: 0.9822\n",
            "Epoch 19/20\n",
            "147/146 [==============================] - ETA: 0s - loss: 0.0027 - accuracy: 0.9996\n",
            "Epoch 19: val_loss improved from 0.05653 to 0.05285, saving model to ckpt/best.hdf5\n",
            "146/146 [==============================] - 90s 615ms/step - loss: 0.0027 - accuracy: 0.9996 - val_loss: 0.0528 - val_accuracy: 0.9844\n",
            "Epoch 20/20\n",
            "147/146 [==============================] - ETA: 0s - loss: 0.0038 - accuracy: 0.9989\n",
            "Epoch 20: val_loss did not improve from 0.05285\n",
            "146/146 [==============================] - 90s 613ms/step - loss: 0.0038 - accuracy: 0.9989 - val_loss: 0.0550 - val_accuracy: 0.9831\n"
          ]
        }
      ]
    },
    {
      "cell_type": "code",
      "source": [
        "model.save('/content/drive/MyDrive/Final year project /Dataset/lung_mobilenet1.h5')"
      ],
      "metadata": {
        "id": "6WBYB_dUMajb"
      },
      "execution_count": null,
      "outputs": []
    },
    {
      "cell_type": "code",
      "metadata": {
        "colab": {
          "base_uri": "https://localhost:8080/",
          "height": 299
        },
        "id": "SsYkKtJHC4Qd",
        "outputId": "a4267125-b5fd-4dcc-a575-eb8ad604e294"
      },
      "source": [
        "import matplotlib.pyplot as plt\n",
        "acc = history.history['accuracy']\n",
        "val_acc = history.history['val_accuracy']\n",
        "loss = history.history['loss']\n",
        "val_loss = history.history['val_loss']\n",
        "\n",
        "epochs = range(len(acc))\n",
        "\n",
        "plt.plot(epochs, acc, 'r', label='Training accuracy')\n",
        "plt.plot(epochs, val_acc, 'b', label='Validation accuracy')\n",
        "plt.title('Training and validation accuracy')\n",
        "plt.legend(loc=0)\n",
        "plt.figure()\n",
        "\n",
        "\n",
        "\n",
        "plt.show()"
      ],
      "execution_count": null,
      "outputs": [
        {
          "output_type": "display_data",
          "data": {
            "text/plain": [
              "<Figure size 432x288 with 1 Axes>"
            ],
            "image/png": "[encoded data removed]"
          },
          "metadata": {
            "needs_background": "light"
          }
        },
        {
          "output_type": "display_data",
          "data": {
            "text/plain": [
              "<Figure size 432x288 with 0 Axes>"
            ]
          },
          "metadata": {}
        }
      ]
    },
    {
      "cell_type": "code",
      "metadata": {
        "colab": {
          "base_uri": "https://localhost:8080/",
          "height": 318
        },
        "id": "k_BwAl7UC78X",
        "outputId": "20ee29c8-a5e2-458a-c62d-7d8903a91647"
      },
      "source": [
        "plt.plot(epochs, loss, 'r', label='Training loss')\n",
        "plt.plot(epochs, val_loss, 'b', label='Validationloss')\n",
        "plt.title('Training and validation loss')\n",
        "plt.legend(loc=0)\n",
        "plt.figure()"
      ],
      "execution_count": null,
      "outputs": [
        {
          "output_type": "execute_result",
          "data": {
            "text/plain": [
              "<Figure size 432x288 with 0 Axes>"
            ]
          },
          "metadata": {},
          "execution_count": 13
        },
        {
          "output_type": "display_data",
          "data": {
            "text/plain": [
              "<Figure size 432x288 with 1 Axes>"
            ],
            "image/png": "[encoded data removed]"
          },
          "metadata": {
            "needs_background": "light"
          }
        },
        {
          "output_type": "display_data",
          "data": {
            "text/plain": [
              "<Figure size 432x288 with 0 Axes>"
            ]
          },
          "metadata": {}
        }
      ]
    },
    {
      "cell_type": "code",
      "metadata": {
        "colab": {
          "base_uri": "https://localhost:8080/",
          "height": 303
        },
        "id": "vIIuTvDLC-7d",
        "outputId": "45f07338-cbfd-4296-9773-3dd74f87a29c"
      },
      "source": [
        "def get_class_string_from_index(index):\n",
        "   for class_string, class_index in validation_generator.class_indices.items():\n",
        "      if class_index == index:\n",
        "         return class_string\n",
        "\n",
        "x, y = next(validation_generator)\n",
        "image = x[0, :, :, :]\n",
        "true_index = np.argmax(y[0])\n",
        "plt.imshow(image)\n",
        "plt.axis('off')\n",
        "plt.show()\n",
        "\n",
        "# Expand the validation image to (1, 224, 224, 3) before predicting the label\n",
        "prediction_scores = model.predict(np.expand_dims(image, axis=0))\n",
        "predicted_index = np.argmax(prediction_scores)\n",
        "print(\"True label: \" + get_class_string_from_index(true_index))\n",
        "print(\"Predicted label: \" + get_class_string_from_index(predicted_index))"
      ],
      "execution_count": null,
      "outputs": [
        {
          "output_type": "stream",
          "name": "stderr",
          "text": [
            "Clipping input data to the valid range for imshow with RGB data ([0..1] for floats or [0..255] for integers).\n"
          ]
        },
        {
          "output_type": "display_data",
          "data": {
            "text/plain": [
              "<Figure size 432x288 with 1 Axes>"
            ],
            "image/png": "[encoded data removed]"
          },
          "metadata": {
            "needs_background": "light"
          }
        },
        {
          "output_type": "stream",
          "name": "stdout",
          "text": [
            "True label: Normal\n",
            "Predicted label: Normal\n"
          ]
        }
      ]
    },
    {
      "cell_type": "markdown",
      "source": [
        "Testing the model\n"
      ],
      "metadata": {
        "id": "WUWxbhUKnHo4"
      }
    },
    {
      "cell_type": "code",
      "source": [
        "from google.colab import drive\n",
        "drive.mount('/content/drive')"
      ],
      "metadata": {
        "id": "FFoTs2IdnSIR",
        "colab": {
          "base_uri": "https://localhost:8080/"
        },
        "outputId": "3b438ae6-4183-4691-fdb0-67ab47a1f804"
      },
      "execution_count": null,
      "outputs": [
        {
          "output_type": "stream",
          "name": "stdout",
          "text": [
            "Mounted at /content/drive\n"
          ]
        }
      ]
    },
    {
      "cell_type": "code",
      "metadata": {
        "id": "BCfToyO8DEcN"
      },
      "source": [
        "import cv2\n",
        "import numpy as np\n",
        "import tensorflow as tf\n",
        "import keras\n",
        "from keras import backend as K\n",
        "from tensorflow.keras.optimizers import Adam\n",
        "from keras.metrics import categorical_crossentropy\n",
        "from keras.preprocessing.image import ImageDataGenerator\n",
        "from keras.models import Model\n",
        "from keras.layers import Dense,GlobalAveragePooling2D,Dropout,SeparableConv2D,BatchNormalization, Activation, Dense\n",
        "from keras.applications.mobilenet import MobileNet"
      ],
      "execution_count": null,
      "outputs": []
    },
    {
      "cell_type": "code",
      "metadata": {
        "id": "4iuH9PElEBeM"
      },
      "source": [
        "model = tf.keras.models.load_model('/content/drive/MyDrive/Final year project /Dataset/lung_mobilenet1.h5')"
      ],
      "execution_count": null,
      "outputs": []
    },
    {
      "cell_type": "code",
      "metadata": {
        "colab": {
          "base_uri": "https://localhost:8080/"
        },
        "id": "Xsz5U3pK5G7t",
        "outputId": "727bedf1-5e69-4c06-d64d-5e515b28f9bd"
      },
      "source": [
        "train_datagen=ImageDataGenerator(preprocessing_function=keras.applications.mobilenet.preprocess_input,\n",
        "                                 validation_split=0.2)\n",
        "\n",
        "train_generator=train_datagen.flow_from_directory('/content/drive/MyDrive/Final year project /Dataset/Original',\n",
        "                                                 target_size=(224,224),\n",
        "                                                 batch_size=64,\n",
        "                                                 class_mode='categorical',\n",
        "                                                 subset='training')\n",
        "\n",
        "\n",
        "validation_generator = train_datagen.flow_from_directory('/content/drive/MyDrive/Final year project /Dataset/Original', # same directory as training data\n",
        "                                                target_size=(224,224),\n",
        "                                                batch_size=64,\n",
        "                                                class_mode='categorical',\n",
        "                                                subset='validation') # set as validation data"
      ],
      "execution_count": null,
      "outputs": [
        {
          "output_type": "stream",
          "name": "stdout",
          "text": [
            "Found 9370 images belonging to 4 classes.\n",
            "Found 2341 images belonging to 4 classes.\n"
          ]
        }
      ]
    },
    {
      "cell_type": "code",
      "source": [
        "import matplotlib.pyplot as plt\n",
        "def get_class_string_from_index(index):\n",
        "   for class_string, class_index in validation_generator.class_indices.items():\n",
        "      if class_index == index:\n",
        "         return class_string\n",
        "\n",
        "x, y = next(validation_generator)\n",
        "image = x[0, :, :, :]\n",
        "true_index = np.argmax(y[0])\n",
        "plt.imshow(image)\n",
        "plt.axis('off')\n",
        "plt.show()\n",
        "\n",
        "# Expand the validation image to (1, 224, 224, 3) before predicting the label\n",
        "prediction_scores = model.predict(np.expand_dims(image, axis=0))\n",
        "predicted_index = np.argmax(prediction_scores)\n",
        "print(\"True label: \" + get_class_string_from_index(true_index))\n",
        "print(\"Predicted label: \" + get_class_string_from_index(predicted_index))"
      ],
      "metadata": {
        "colab": {
          "base_uri": "https://localhost:8080/",
          "height": 303
        },
        "id": "vQ9I_m0nkJW1",
        "outputId": "87fd14d4-9f84-47c4-c6d9-5082fbcf5a5e"
      },
      "execution_count": null,
      "outputs": [
        {
          "output_type": "stream",
          "name": "stderr",
          "text": [
            "Clipping input data to the valid range for imshow with RGB data ([0..1] for floats or [0..255] for integers).\n"
          ]
        },
        {
          "output_type": "display_data",
          "data": {
            "text/plain": [
              "<Figure size 432x288 with 1 Axes>"
            ],
            "image/png": "[encoded data removed]"
          },
          "metadata": {
            "needs_background": "light"
          }
        },
        {
          "output_type": "stream",
          "name": "stdout",
          "text": [
            "True label: Pneumonia\n",
            "Predicted label: Pneumonia\n"
          ]
        }
      ]
    },
    {
      "cell_type": "code",
      "metadata": {
        "colab": {
          "base_uri": "https://localhost:8080/"
        },
        "id": "m7pzRriUEJyB",
        "outputId": "a26246e4-b41f-4f20-fa86-3be0b8ce566e"
      },
      "source": [
        "import cv2\n",
        "import tensorflow as tf\n",
        "\n",
        "CATEGORIES= ['COVID19','NORMAL','PNEUMONIA','TUBERCOLOSIS']\n",
        "def prepare(filepath):\n",
        "    IMG_SIZE=224\n",
        "    img_array=cv2.imread(filepath)\n",
        "    img_array = img_array / 255.0\n",
        "    new_array=cv2.resize(img_array,(IMG_SIZE,IMG_SIZE))\n",
        "    return new_array.reshape(-1,IMG_SIZE,IMG_SIZE,3)\n",
        "\n",
        "\n",
        "prediction = model.predict(prepare('/content/drive/MyDrive/Final year project /Dataset/Original/Covid19/COVID-1.png'))\n",
        "prediction = np.argmax(prediction,-1)\n",
        "print(prediction)\n",
        "print(CATEGORIES[int(prediction[0])])"
      ],
      "execution_count": null,
      "outputs": [
        {
          "output_type": "stream",
          "name": "stdout",
          "text": [
            "[0]\n",
            "COVID19\n"
          ]
        }
      ]
    },
    {
      "cell_type": "code",
      "source": [
        ""
      ],
      "metadata": {
        "id": "KeJ_eyo2kdAj"
      },
      "execution_count": null,
      "outputs": []
    }
  ]
}